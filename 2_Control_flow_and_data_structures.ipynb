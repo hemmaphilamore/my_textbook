{
 "cells": [
  {
   "cell_type": "markdown",
   "metadata": {
    "collapsed": true
   },
   "source": [
    "# Control Flow and Data Structures\n",
    "\n",
    "## Lesson Goal\n",
    "\n",
    " - Compose simple programs to perform the algebraic equations we have studied so far on:\n",
    "  - single value variables.\n",
    "  - data structures (holding mutiple variables)\n",
    "  - data imported from external sources (user input and external files)\n",
    "\n",
    "## Objectives\n",
    "\n",
    " - Use control __statements__, __loops__ and  to determine the flow of a program.  \n",
    " - Express collections of mulitple variables as `list`, `tuple` and dictionary (`dict`) data structures.\n",
    " \n",
    "- Use iteratation to visit entries in a data structure \n",
    "\n",
    "- Learn to select the right data structure for an application\n",
    "\n",
    " - Input data to your programs from different sources (user input and external files)."
   ]
  },
  {
   "cell_type": "markdown",
   "metadata": {},
   "source": [
    "## 1.Control Statements\n",
    "In the last seminar we looked at a simple computer program that returned Boolean (True or False) variables. \n",
    "\n",
    "Based on the current time of day, the program answers two questions:\n",
    "\n",
    "\n",
    ">__Is it lunchtime?__\n",
    "\n",
    ">`True`\n",
    "\n",
    "\n",
    "if it is lunch time.\n",
    "\n",
    ">__Is it time for work?__\n",
    "\n",
    ">`True`\n",
    "\n",
    "if it is within working hours."
   ]
  },
  {
   "cell_type": "code",
   "execution_count": 1,
   "metadata": {},
   "outputs": [
    {
     "name": "stdout",
     "output_type": "stream",
     "text": [
      "Is it lunchtime?\n",
      "True\n",
      "Is it time for work?\n",
      "False\n"
     ]
    }
   ],
   "source": [
    "time = 13.05          # current time\n",
    "\n",
    "work_starts = 8.00    # time work starts \n",
    "work_ends =  17.00    # time work ends\n",
    "\n",
    "lunch_starts = 13.00  # time lunch starts\n",
    "lunch_ends =   14.00  # time lunch ends\n",
    "\n",
    "# variable lunchtime is True or False\n",
    "lunchtime = time >= lunch_starts and time < lunch_ends\n",
    "\n",
    "# variable work_time is True or False\n",
    "work_time = time < work_starts or time >= work_ends\n",
    "\n",
    "\n",
    "print(\"Is it lunchtime?\")\n",
    "print(lunchtime)\n",
    "print(\"Is it time for work?\")\n",
    "print(work_time)"
   ]
  },
  {
   "cell_type": "markdown",
   "metadata": {},
   "source": [
    "What if we now want our computer program to do something based on these answers?\n",
    "\n",
    "To do this, we need to use *control statements*.\n",
    "\n",
    "Control statements are a fundamental part of programming."
   ]
  },
  {
   "cell_type": "markdown",
   "metadata": {},
   "source": [
    "Here is a control statement in pseudo code:\n",
    "\n",
    "    if A is true    \n",
    "        Perform task X\n",
    "        \n",
    "For example \n",
    "\n",
    "    if lunchtime is true    \n",
    "        Eat lunch\n"
   ]
  },
  {
   "cell_type": "markdown",
   "metadata": {},
   "source": [
    "This is an `if` statement.\n",
    "\n",
    "Control flow is used to make decisions in a program.\n",
    "\n",
    "For example we can use an `if` statement with an `else if`to check wether multiple conditions are true or false. \n",
    "\n",
    "    if A is true\n",
    "        Perform task X (only)\n",
    "        \n",
    "    else if B is true\n",
    "        Perform task Y (only)\n",
    "        \n",
    "\n",
    "\n",
    "    if lunchtime is true\n",
    "        Eat lunch\n",
    "        \n",
    "    else if work_time is true\n",
    "        Do work"
   ]
  },
  {
   "cell_type": "markdown",
   "metadata": {},
   "source": [
    "Often it is useful to include an `else` statement.\n",
    "\n",
    "If none of the `if` and `else if` statements are satisfied, the code following the `else` statement will be executed.\n",
    "\n",
    "    if A is true\n",
    "        Perform task X (only)\n",
    "        \n",
    "    else if B is true\n",
    "        Perform task Y (only)\n",
    "        \n",
    "    else   \n",
    "        Perform task Z (only)\n",
    "        \n",
    "\n",
    "\n",
    "\n",
    "    if lunchtime is true\n",
    "        Eat lunch\n",
    "        \n",
    "    else if work_time is true\n",
    "        Do work\n",
    "        \n",
    "    else   \n",
    "        Go home"
   ]
  },
  {
   "cell_type": "markdown",
   "metadata": {},
   "source": [
    "Let's get a better understanding of control flow statements by completing some examples. "
   ]
  },
  {
   "cell_type": "markdown",
   "metadata": {
    "collapsed": true
   },
   "source": [
    "## 1.1 `if` and `else` statements\n",
    "\n",
    "Below is a simple example that demonstrates a Python  if-else control statement. \n",
    "\n",
    "The input to the program is variable `x`.\n",
    "\n",
    "The program prints a message and modifies `x`.\n",
    "\n",
    "The message and the modification of `x` depend on the initial value of `x`.\n",
    "\n",
    "__Note:__ \n",
    " \n",
    " - In Python, \"else if\" is written: `elif`\n",
    " - The program  uses the short-cut algebraic operators that you learnt to use in the last seminar. "
   ]
  },
  {
   "cell_type": "code",
   "execution_count": 3,
   "metadata": {},
   "outputs": [
    {
     "name": "stdout",
     "output_type": "stream",
     "text": [
      "Initial x is less than zero\n"
     ]
    }
   ],
   "source": [
    "x = -10.0  # Initial x value\n",
    "\n",
    "if x > 0.0:  \n",
    "    print('Initial x is greater than zero')\n",
    "    x -= 20.0\n",
    "    \n",
    "elif x < 0.0:  \n",
    "    print('Initial x is less than zero')\n",
    "    x += 21.0\n",
    "    \n",
    "else: \n",
    "    print('Initial x is not less than zero and not greater than zero, therefore it must be zero')\n",
    "    x *= 2.5\n",
    "\n",
    "# Print new x value"
   ]
  },
  {
   "cell_type": "markdown",
   "metadata": {},
   "source": [
    "__Try it yourself__\n",
    "\n",
    "Try changing the value of `x` a few times.\n",
    "Re-run the cell to see the different paths the program can follow."
   ]
  },
  {
   "cell_type": "markdown",
   "metadata": {},
   "source": [
    "Let's look more closely at the control statement example. \n",
    "\n",
    "The control statement begins with an `if`.<br>\n",
    "This is followed by `:` <br>.\n",
    "This is followed by the expression to check. <br>\n",
    "\n",
    "```python\n",
    "if x > 0.0:\n",
    "```\n",
    "\n",
    "Below that is a block of code, indented by four spaces, that is executed if the check (`x > 0.0`) is true:\n",
    "\n",
    "````python\n",
    "    print('Initial x is greater than zero')\n",
    "    x -= 20.0\n",
    "````\n",
    "if the check (`x > 0.0`) is true:\n",
    " - The code above is executed.\n",
    " - The control block is exited.\n",
    " \n",
    "If the check is false, then the `elif` (else if) check is performed:\n",
    "\n",
    "```python\n",
    "elif x < 0.0:\n",
    "    print('Initial x is less than zero')\n",
    "    x += 21.0\n",
    "```      \n",
    "If (`x < 0.0`) is true:\n",
    " - `print('x is less than zero')`' is executed.\n",
    " - The control block is exited. \n",
    " \n",
    " \n",
    "If none of the preceding stements are true [(`x > 0.0`) is false and (`x < 0.0`) is false], the code following the `else` statement is executed.\n",
    " \n",
    " \n",
    "```python\n",
    "else:\n",
    "    print('Initial x is not less than zero and not greater than zero, therefore it must be zero')\n",
    "```\n"
   ]
  },
  {
   "cell_type": "markdown",
   "metadata": {
    "collapsed": true
   },
   "source": [
    "### Real-World Example: currency trading\n",
    "\n",
    "__Read the problem below carefully.__\n",
    "\n",
    "To make a comission (profit), a currency trader sells US dollars to travellers at a rate below the market rate. \n",
    "\n",
    "The multiplier the apply to calculate the reduction is shown in the table.  \n",
    "\n",
    "|Amount (GBP)                                |reduction on market rate |\n",
    "|--------------------------------------------|-------------------------|\n",
    "| Less than $100$                            | 0.9                     |   \n",
    "| From $100$ and less than $1,000$           | 0.925                   |   \n",
    "| From $1,000$ and less than $10,000$        | 0.95                    |   \n",
    "| From $10,000$ and less than $100,000$      | 0.97                    |   \n",
    "| Over $100,000$                             | 0.98                    |   \n",
    "\n",
    "The currency trader incurs extra costs for handling cash. \n",
    "\n",
    "Therefore, if the transaction is made in cash they retain an extra 10% after conversion. \n",
    "(If the trasnaction is made electronically, they do not).  \n",
    "\n",
    "At the current market rate 1 JPY is 0.0091 USD.\n",
    "\n",
    "The *effective rate* is the rate that the customer is getting based on the amount in JPY to be changed."
   ]
  },
  {
   "cell_type": "code",
   "execution_count": 5,
   "metadata": {},
   "outputs": [
    {
     "name": "stdout",
     "output_type": "stream",
     "text": [
      "Amount in JPY sold: 200500\n",
      "Amount in USD purchased: 1609.2531000000001\n",
      "Effective rate: 0.0080262\n"
     ]
    }
   ],
   "source": [
    "JPY  = 200500  # The amount in JPY to be changed into USD\n",
    "cash = True  # True if selling cash, otherwise False\n",
    "\n",
    "market_rate = 0.0091  # 1 JPY is worth this many dollars at the market rate\n",
    "\n",
    "# Apply the appropriate reduction depending on the amount being sold\n",
    "if JPY < 100:\n",
    "    USD = 0.9 * market_rate * JPY\n",
    "    \n",
    "elif JPY < 1000:  \n",
    "    USD = 0.925 * market_rate * JPY\n",
    "    \n",
    "elif JPY < 10000:\n",
    "    USD = 0.95 * market_rate * JPY\n",
    "    \n",
    "elif JPY < 100000:\n",
    "    USD = 0.97 * market_rate * JPY\n",
    "    \n",
    "else:\n",
    "    USD = 0.98 * market_rate * JPY\n",
    "\n",
    "if cash:\n",
    "    USD *= 0.9  # recall that this is shorthand for USD = 0.9*USD \n",
    "    \n",
    "print(\"Amount in JPY sold:\", JPY)\n",
    "print(\"Amount in USD purchased:\", USD)\n",
    "print(\"Effective rate:\", USD/JPY)"
   ]
  },
  {
   "cell_type": "markdown",
   "metadata": {},
   "source": [
    "__Try it yourself__\n",
    "\n",
    "Try changing the values of `JPY` and `cash` a few times.\n",
    "Re-run the cell to see the different paths the program can follow."
   ]
  },
  {
   "cell_type": "markdown",
   "metadata": {},
   "source": [
    "## 1.2 `for` loops\n",
    "\n",
    "A `for` loop is a block that repeats an operation a specified number of times (loops). \n",
    "\n",
    "We will learn its simplest and most common usage."
   ]
  },
  {
   "cell_type": "markdown",
   "metadata": {},
   "source": [
    "### 1.2.1 To do this we are first going to need to use the function `range()`.\n",
    "\n",
    "Here we are using the function `range`.\n",
    "\n",
    "`range(3, 6)` returns *integer* values starting from 3 and ending at 6.\n",
    "\n",
    "i.e.\n",
    "\n",
    "> 3,4,5\n",
    "\n",
    "Note this does not include 6.\n",
    "\n",
    "We can change the starting value.\n",
    " \n",
    "For example for integer values starting at 0 and ending at 4:\n",
    " \n",
    "`range(0,4)`\n",
    "\n",
    "returns:\n",
    "\n",
    "> 0, 1, 2, 3\n",
    "\n",
    "`range(4)` is a __shortcut__ for range(0, 4) "
   ]
  },
  {
   "cell_type": "markdown",
   "metadata": {},
   "source": [
    "### 1.2.2 Simple `for` loops"
   ]
  },
  {
   "cell_type": "code",
   "execution_count": 1,
   "metadata": {},
   "outputs": [
    {
     "name": "stdout",
     "output_type": "stream",
     "text": [
      "-2\n",
      "-1\n",
      "0\n",
      "1\n",
      "2\n"
     ]
    }
   ],
   "source": [
    "for i in range(-2, 3):\n",
    "    print(i)"
   ]
  },
  {
   "cell_type": "markdown",
   "metadata": {},
   "source": [
    "The above executes 5 loops.\n",
    "\n",
    "The statement \n",
    "```python\n",
    "for i in range(-2, 3):\n",
    "```\n",
    "says that we want to loop over five integers, starting from -2. \n",
    "\n",
    "Each loop the value `i` increases by 1 (-2, -1, 0, 1, 2).\n",
    " \n",
    "The code we want to execute inside the loop is indented four spaces: \n",
    "```python\n",
    "    print(i)\n",
    "```\n",
    "The loop starts from -2 and executes this code for each value of i (-2, -1, 0, 1, 2)."
   ]
  },
  {
   "cell_type": "code",
   "execution_count": 12,
   "metadata": {},
   "outputs": [
    {
     "name": "stdout",
     "output_type": "stream",
     "text": [
      "----\n",
      "0 0\n",
      "----\n",
      "1 1\n",
      "----\n",
      "2 4\n",
      "----\n",
      "3 9\n"
     ]
    }
   ],
   "source": [
    "for n in range(4):\n",
    "    \n",
    "    print(\"----\")\n",
    "    \n",
    "    print(n, n**2)"
   ]
  },
  {
   "cell_type": "markdown",
   "metadata": {},
   "source": [
    "The above executes 4 loops.\n",
    "\n",
    "The statement \n",
    "```python\n",
    "for n in range(4):\n",
    "```\n",
    "says that we want to loop over four integers, starting from 0. \n",
    "\n",
    "Each loop the value `n` increases by 1 (0, 1, 2 3).\n",
    " \n",
    "The code we want to execute inside the loop is indented four spaces: \n",
    "```python\n",
    "    print(\"----\")\n",
    "    print(n, n**2)\n",
    "```\n",
    "The loop starts from zero and executes this code for each value of n (0, 1, 2, 3). \n",
    "\n"
   ]
  },
  {
   "cell_type": "markdown",
   "metadata": {},
   "source": [
    "__Try it yourself__\n",
    "Go back and change the __range__ of input values and observe the chnage in output. \n"
   ]
  },
  {
   "cell_type": "markdown",
   "metadata": {
    "collapsed": true
   },
   "source": [
    "If we want to step by three rather than one:"
   ]
  },
  {
   "cell_type": "code",
   "execution_count": 14,
   "metadata": {},
   "outputs": [
    {
     "name": "stdout",
     "output_type": "stream",
     "text": [
      "0\n",
      "3\n",
      "6\n",
      "9\n"
     ]
    }
   ],
   "source": [
    "for n in range(0, 10, 3):\n",
    "    print(n)"
   ]
  },
  {
   "cell_type": "markdown",
   "metadata": {},
   "source": [
    "If we want to step backwards rather than forwards we must include the step size:"
   ]
  },
  {
   "cell_type": "code",
   "execution_count": 22,
   "metadata": {},
   "outputs": [
    {
     "name": "stdout",
     "output_type": "stream",
     "text": [
      "10\n",
      "9\n",
      "8\n",
      "7\n",
      "6\n",
      "5\n",
      "4\n",
      "3\n",
      "2\n",
      "1\n"
     ]
    }
   ],
   "source": [
    "for n in range(10, 0, -1):\n",
    "    print(n)"
   ]
  },
  {
   "cell_type": "markdown",
   "metadata": {},
   "source": [
    "For example:"
   ]
  },
  {
   "cell_type": "code",
   "execution_count": 23,
   "metadata": {
    "collapsed": true
   },
   "outputs": [],
   "source": [
    "for n in range(10, 0):\n",
    "    print(n)"
   ]
  },
  {
   "cell_type": "markdown",
   "metadata": {},
   "source": [
    "Does not return any values because there are no values that lie between 10 and 0 when counting in the positive direction from 10. "
   ]
  },
  {
   "cell_type": "markdown",
   "metadata": {},
   "source": [
    "__Try it yourself.__\n",
    "\n",
    "In the cell below write a `for` loop that:\n",
    " - loops __backwards__ through a range starting at `n = 10` and ending at `n = 1`.\n",
    " - prints `n`$^2$ at each loop.\n"
   ]
  },
  {
   "cell_type": "code",
   "execution_count": 20,
   "metadata": {
    "collapsed": true
   },
   "outputs": [],
   "source": [
    "# For loop"
   ]
  },
  {
   "cell_type": "markdown",
   "metadata": {},
   "source": [
    "### Real-world Example: conversion table from degrees Fahrenheit to degrees Celsius\n",
    "\n",
    "We can use a `for` loop to create a conversion table from degrees Fahrenheit ($T_F$) to degrees Celsius ($T_c$).\n",
    "\n",
    "Conversion formula:\n",
    "\n",
    "$$\n",
    "T_c = 5(T_f - 32)/9\n",
    "$$\n",
    "\n",
    "Computing the conversion from -100 F to 200 F in steps of 20 F (not including 200 F):"
   ]
  },
  {
   "cell_type": "code",
   "execution_count": 24,
   "metadata": {},
   "outputs": [
    {
     "name": "stdout",
     "output_type": "stream",
     "text": [
      "T_f,    T_c\n",
      "-100 -73.33333333333333\n",
      "-80 -62.22222222222222\n",
      "-60 -51.111111111111114\n",
      "-40 -40.0\n",
      "-20 -28.88888888888889\n",
      "0 -17.77777777777778\n",
      "20 -6.666666666666667\n",
      "40 4.444444444444445\n",
      "60 15.555555555555555\n",
      "80 26.666666666666668\n",
      "100 37.77777777777778\n",
      "120 48.888888888888886\n",
      "140 60.0\n",
      "160 71.11111111111111\n",
      "180 82.22222222222223\n"
     ]
    }
   ],
   "source": [
    "print(\"T_f,    T_c\")\n",
    "\n",
    "for Tf in range(-100, 200, 20):\n",
    "    print(Tf, (Tf - 32) * 5 / 9)"
   ]
  },
  {
   "cell_type": "markdown",
   "metadata": {},
   "source": [
    "## 1.3 `while` loops\n",
    "\n",
    "`for` loops perform an operation a specified number of times. \n",
    "\n",
    "A `while` loop performs a task while a specified statement is true. \n",
    "\n",
    "For example:"
   ]
  },
  {
   "cell_type": "code",
   "execution_count": 29,
   "metadata": {},
   "outputs": [
    {
     "name": "stdout",
     "output_type": "stream",
     "text": [
      "Start of while statement\n",
      "-2\n",
      "-1\n",
      "0\n",
      "1\n",
      "2\n",
      "3\n",
      "4\n",
      "End of while statement\n"
     ]
    }
   ],
   "source": [
    "print(\"Start of while statement\")\n",
    "x = -2\n",
    "while x < 5:\n",
    "    print(x)\n",
    "    x += 1  # Increment x\n",
    "print(\"End of while statement\")"
   ]
  },
  {
   "cell_type": "markdown",
   "metadata": {},
   "source": [
    "The code that follows the `while` statement is indented four spaces.\n",
    "\n",
    "It is executed and repeated until `x < 5` is `False`.\n",
    "\n",
    "It can be quite easy to crash your computer using a `while` loop. E.g.,\n",
    "```python\n",
    "x = -2\n",
    "while x < 5:\n",
    "    print(x)\n",
    "```\n",
    "will continue indefinitely since `x < 5 == False`  will never be satisfied. \n",
    "\n",
    "Therefore, we should consider which type of loop is appropraite for our program e.g. it would be better to use a `for` loop for the example above. "
   ]
  },
  {
   "cell_type": "code",
   "execution_count": 30,
   "metadata": {},
   "outputs": [
    {
     "name": "stdout",
     "output_type": "stream",
     "text": [
      "Start of for statement\n",
      "-2\n",
      "-1\n",
      "0\n",
      "1\n",
      "2\n",
      "3\n",
      "4\n",
      "End of for statement\n"
     ]
    }
   ],
   "source": [
    "print(\"Start of for statement\")\n",
    "x = -2\n",
    "\n",
    "for y in range(x,5):\n",
    "    print(y)\n",
    "\n",
    "    \n",
    "print(\"End of for statement\")"
   ]
  },
  {
   "cell_type": "code",
   "execution_count": null,
   "metadata": {
    "collapsed": true
   },
   "outputs": [],
   "source": []
  },
  {
   "cell_type": "markdown",
   "metadata": {},
   "source": [
    "The following is an example of where a `while` is appropriate."
   ]
  },
  {
   "cell_type": "code",
   "execution_count": 27,
   "metadata": {},
   "outputs": [
    {
     "name": "stdout",
     "output_type": "stream",
     "text": [
      "0.81\n",
      "0.6561000000000001\n",
      "0.43046721000000016\n",
      "0.18530201888518424\n",
      "0.03433683820292518\n",
      "0.001179018457773862\n",
      "1.390084523771456e-06\n"
     ]
    }
   ],
   "source": [
    "x = 0.9\n",
    "\n",
    "while x > 0.001:\n",
    "    # Square x (shortcut x *= x)\n",
    "    x = x * x\n",
    "    print(x)"
   ]
  },
  {
   "cell_type": "markdown",
   "metadata": {},
   "source": [
    "since we might not know beforehand how many steps are required before `x > 0.001` becomes false. \n",
    "\n",
    "If $x \\ge 1$, the above would lead to an infinite loop as `x` would increase with every loop. \n",
    "\n",
    "e.g. \n",
    "```python\n",
    "x = 2\n",
    "\n",
    "while x > 0.001:\n",
    "    x = x * x\n",
    "    print(x)\n",
    "```\n",
    "\n",
    "To make a code robust, it would be good practice to check that $x < 1$ before entering the `while` loop."
   ]
  },
  {
   "cell_type": "markdown",
   "metadata": {},
   "source": [
    "__Try it for yourself:__\n",
    "\n",
    "In the cell below:\n",
    " - Create a variable,`x`, with the initial value 50\n",
    " - Each loop, reduce the value of x by half\n",
    " - Exit the loop when `x` < 3"
   ]
  },
  {
   "cell_type": "code",
   "execution_count": 1,
   "metadata": {
    "collapsed": true
   },
   "outputs": [],
   "source": [
    "# While loop"
   ]
  },
  {
   "cell_type": "markdown",
   "metadata": {},
   "source": [
    "## 1.4 `break`, `continue` and `pass`\n",
    "\n",
    "### 1.4.1 `break`\n",
    "\n",
    "Sometimes we want to break out of a `for` or `while` loop. \n",
    "\n",
    "For example in a `for` loop we can check if something is true, and then exit the loop prematurely, e.g"
   ]
  },
  {
   "cell_type": "code",
   "execution_count": null,
   "metadata": {
    "collapsed": true
   },
   "outputs": [],
   "source": [
    "for x in range(10):\n",
    "    print(x)\n",
    "    \n",
    "    if x == 5:\n",
    "        print(\"Time to break out\")\n",
    "        break"
   ]
  },
  {
   "cell_type": "markdown",
   "metadata": {},
   "source": [
    "Let's look at how we can use this in a program.\n",
    "\n",
    "The program below checks (integer) numbers up to 50 __finds prime numbers__ and prints the prime numbers. \n",
    "\n",
    "__Prime number:__ A natural number, greater than 1, that has no positive divisors other than 1 and itself (2, 3, 5, 11, 13, 17....)"
   ]
  },
  {
   "cell_type": "code",
   "execution_count": 8,
   "metadata": {},
   "outputs": [
    {
     "name": "stdout",
     "output_type": "stream",
     "text": [
      "2\n",
      "3\n",
      "5\n",
      "7\n",
      "11\n",
      "13\n",
      "17\n",
      "19\n",
      "23\n",
      "29\n",
      "31\n",
      "37\n",
      "41\n",
      "43\n",
      "47\n"
     ]
    }
   ],
   "source": [
    "N = 50  # Check numbers up 50 for primes (excludes 50)\n",
    "\n",
    "# Loop over all numbers from 2 to 50 (excluding 50)\n",
    "for n in range(2, N):\n",
    "\n",
    "    # Assume that n is prime\n",
    "    n_is_prime = True\n",
    "\n",
    "    # Check if n can be divided by m\n",
    "    # m ranges from 2 to n (excluding n)\n",
    "    for m in range(2, n):\n",
    "        \n",
    "        # Check if the remainder when n/m is equal to zero \n",
    "        # If the remainder is zero it is not a prime number\n",
    "        if n % m == 0:   \n",
    "            n_is_prime = False\n",
    "\n",
    "    #  If n is prime, print to screen        \n",
    "    if n_is_prime:\n",
    "        print(n)"
   ]
  },
  {
   "cell_type": "markdown",
   "metadata": {},
   "source": [
    "Notice that our program contains a second `for` loop. \n",
    "\n",
    "For each value of n, it loops through incrementing values of m in the range (2 to n):\n",
    "\n",
    "```python\n",
    "# Check if n can be divided by m\n",
    "    # m ranges from 2 to n (excluding n)\n",
    "    for m in range(2, n):\n",
    "```\n",
    "before incrementing to the next value of n.\n",
    "\n",
    "We call this a *nested* loop.\n",
    "\n",
    "The indents in the code show where loops are nested.\n",
    "\n",
    "<br>\n",
    "<br>\n",
    "\n",
    "Notice that one of the prime numbers is 17.\n",
    "\n",
    "In the program below, a break statment is added. "
   ]
  },
  {
   "cell_type": "code",
   "execution_count": 9,
   "metadata": {},
   "outputs": [
    {
     "name": "stdout",
     "output_type": "stream",
     "text": [
      "2\n",
      "3\n",
      "5\n",
      "7\n",
      "11\n",
      "13\n",
      "17\n"
     ]
    }
   ],
   "source": [
    "N = 50  # Check numbers up 50 for primes (excludes 50)\n",
    "\n",
    "# Loop over all numbers from 2 to 50 (excluding 50)\n",
    "for n in range(2, N):\n",
    "\n",
    "    # Assume that n is prime\n",
    "    n_is_prime = True\n",
    "\n",
    "    # Check if n can be divided by m\n",
    "    # m ranges from 2 to n (excluding n)\n",
    "    for m in range(2, n):\n",
    "        \n",
    "        # Check if the remainder when n/m is equal to zero \n",
    "        # If the remainder is zero it is not a prime number\n",
    "        if n % m == 0:   \n",
    "            n_is_prime = False\n",
    "\n",
    "    #  If n is prime, print to screen        \n",
    "    if n_is_prime:\n",
    "        print(n)\n",
    "        \n",
    "    if n == 17:   \n",
    "        break"
   ]
  },
  {
   "cell_type": "markdown",
   "metadata": {},
   "source": [
    "If if `n`  is equal to 17, the program stops running the `for` loop:\n",
    "\n",
    "```python\n",
    "for n in range(2, N):\n",
    "```\n",
    "\n",
    "Only values up to 17 are printed. "
   ]
  },
  {
   "cell_type": "markdown",
   "metadata": {},
   "source": [
    "__Try it yourself.__\n",
    "\n",
    "Re-write the break statement in the cell above.  \n",
    "\n",
    "Try stopping the foor loop at the first prime number greater than 20.\n",
    "\n",
    "__Note:__ You do not need to delete the previous `break` statement.\n",
    "\n",
    "You can make it a comment by adding a `#` at the start of each line:\n",
    "\n",
    "```python\n",
    "#    if n == 17:   \n",
    "#        break\n",
    "```\n",
    "This allows you to refer to see the code, but stops the program from running it. \n",
    "\n",
    "The program exits the loop at the `break` statement.\n",
    "This means that any code within the loop, after the break statement is skipped. \n",
    "\n",
    "__In the cell below copy and paste your code from the cell above.__\n",
    "\n",
    "__Try editing your code to printing all of the prime numbers *under* 20.__"
   ]
  },
  {
   "cell_type": "code",
   "execution_count": null,
   "metadata": {
    "collapsed": true
   },
   "outputs": [],
   "source": [
    "# Copy and paste your code here."
   ]
  },
  {
   "cell_type": "markdown",
   "metadata": {},
   "source": [
    "A simple way to do this is to place the break statement before we print the value of `n`.\n",
    "\n",
    "    #  If n is prime, print to screen        \n",
    "    if n_is_prime:\n",
    "        print(n)\n",
    "        \n",
    "If `n`$>20$ the program breaks out of the loop before printing the number."
   ]
  },
  {
   "cell_type": "markdown",
   "metadata": {
    "collapsed": true
   },
   "source": [
    "### 1.4.2 `continue`\n",
    "\n",
    "Sometimes, instead of stopping the loop we want to go to the next iteration in a loop, skipping the remaining code.\n",
    "\n",
    "For this we use `continue`. \n",
    "\n",
    "The example below loops over 20 numbers (0 to 19) and checks if the number is divisible by 4. \n",
    "\n",
    "If the number is not divisible by 4:\n",
    "\n",
    "- it prints a message \n",
    "- it moves to the next value. \n",
    "\n",
    "If the number is divisible by 4 it *continues* to the next value in the loop, without printing."
   ]
  },
  {
   "cell_type": "code",
   "execution_count": 11,
   "metadata": {},
   "outputs": [
    {
     "name": "stdout",
     "output_type": "stream",
     "text": [
      "Number is not divisible by 4: 1\n",
      "Number is not divisible by 4: 2\n",
      "Number is not divisible by 4: 3\n",
      "Number is not divisible by 4: 5\n",
      "Number is not divisible by 4: 6\n",
      "Number is not divisible by 4: 7\n",
      "Number is not divisible by 4: 9\n",
      "Number is not divisible by 4: 10\n",
      "Number is not divisible by 4: 11\n",
      "Number is not divisible by 4: 13\n",
      "Number is not divisible by 4: 14\n",
      "Number is not divisible by 4: 15\n",
      "Number is not divisible by 4: 17\n",
      "Number is not divisible by 4: 18\n",
      "Number is not divisible by 4: 19\n"
     ]
    }
   ],
   "source": [
    "for j in range(20):\n",
    "    \n",
    "    if j % 4 == 0:  # Check remainer of j/4\n",
    "        continue    # continue to next value of j\n",
    "        \n",
    "    print(\"Number is not divisible by 4:\", j)"
   ]
  },
  {
   "cell_type": "markdown",
   "metadata": {},
   "source": [
    "## 2. Data Structures\n",
    "\n",
    "Often we want to manipulate data that is more meaningful than ranges of numbers.\n",
    "\n",
    "These collections of variables might include:\n",
    " - the results of an experiment\n",
    " - a list of names\n",
    " - the components of a vector\n",
    " - a telephone directory with names and associated numbers.\n",
    " \n",
    "Python has different __data structures__ that can be used to store and manipulate these values.\n",
    "\n",
    "Like variable types (`string`, `int`,`float`...) different data structures behave in different ways.\n",
    "\n",
    "Today we will learn to use `list`, `tuple` and dictionary (`dict`) data structures.\n",
    "\n",
    "We will study the differences in how they behave so that you can learn to select the most suitable data structure for an application. \n",
    " \n",
    " "
   ]
  },
  {
   "cell_type": "markdown",
   "metadata": {},
   "source": [
    "Programs use data structure to collect data into useful packages. \n",
    "\n",
    "$$\n",
    "r = [u, v, w]\n",
    "$$\n",
    "\n",
    "For example, rather than representing a vector `r` of length 3 using three seperate floats `ru`, `rv` and `rw`, we could represent \n",
    "it as a __list__ of floats:\n",
    "\n",
    "`r = [u, v, w]`. \n",
    "\n",
    "We will learn what a __list__ is in a moment.\n",
    "\n",
    "If we want to store the names of students in a laboratory group, rather than representing each students using an individual string variable, we could use a list of names, e.g.:\n",
    "\n"
   ]
  },
  {
   "cell_type": "code",
   "execution_count": 12,
   "metadata": {
    "collapsed": true
   },
   "outputs": [],
   "source": [
    "lab_group0 = [\"Sarah\", \"John\", \"Joe\", \"Emily\"]\n",
    "lab_group1 = [\"Roger\", \"Rachel\", \"Amer\", \"Caroline\", \"Colin\"]"
   ]
  },
  {
   "cell_type": "markdown",
   "metadata": {},
   "source": [
    "This is useful because we can perform operations on lists such as:\n",
    " - checking its length (number of students in a lab group)\n",
    " - sorting the names in the list into alphabetical order\n",
    " - making a list of lists (we call this a *nested list*):\n"
   ]
  },
  {
   "cell_type": "code",
   "execution_count": 13,
   "metadata": {
    "collapsed": true
   },
   "outputs": [],
   "source": [
    "lab_groups = [lab_group0, lab_group1]"
   ]
  },
  {
   "cell_type": "markdown",
   "metadata": {},
   "source": [
    "## 2.1 Lists"
   ]
  },
  {
   "cell_type": "markdown",
   "metadata": {},
   "source": [
    "A list is a sequence of data. \n",
    "\n",
    "We call each item in the sequence an *element*. \n",
    "\n",
    "A list is constructed using square brackets.\n",
    "\n",
    "A list can hold a mixture of types (`int`, `string`....)."
   ]
  },
  {
   "cell_type": "markdown",
   "metadata": {},
   "source": [
    "In the example below, `lab_group0` is a list.\n"
   ]
  },
  {
   "cell_type": "markdown",
   "metadata": {},
   "source": [
    "In the example below, `lab_group0` is a list.\n",
    "\n"
   ]
  },
  {
   "cell_type": "markdown",
   "metadata": {},
   "source": [
    "We can find the length (number of items) of a list using the function `len()`, by including the name of the list in the brackets. "
   ]
  },
  {
   "cell_type": "code",
   "execution_count": 37,
   "metadata": {},
   "outputs": [
    {
     "name": "stdout",
     "output_type": "stream",
     "text": [
      "Lab group members: ['Sara', 'Mari', 'Quang']\n",
      "Size of lab group: 3\n",
      "Check the Python object type: <class 'list'>\n"
     ]
    }
   ],
   "source": [
    "lab_group0 = [\"Sara\", \"Mari\", \"Quang\"]\n",
    "\n",
    "size = len(lab_group0)\n",
    "\n",
    "print(\"Lab group members:\", lab_group0)\n",
    "\n",
    "print(\"Size of lab group:\", size)\n",
    "\n",
    "print(\"Check the Python object type:\", type(lab_group0))\n"
   ]
  },
  {
   "cell_type": "markdown",
   "metadata": {},
   "source": [
    "An empty list is created by"
   ]
  },
  {
   "cell_type": "code",
   "execution_count": 29,
   "metadata": {
    "collapsed": true
   },
   "outputs": [],
   "source": [
    "my_list = []"
   ]
  },
  {
   "cell_type": "markdown",
   "metadata": {},
   "source": [
    "A list of length 5 with repeated values can be created by"
   ]
  },
  {
   "cell_type": "code",
   "execution_count": 30,
   "metadata": {},
   "outputs": [
    {
     "name": "stdout",
     "output_type": "stream",
     "text": [
      "['Hello', 'Hello', 'Hello', 'Hello', 'Hello']\n"
     ]
    }
   ],
   "source": [
    "my_list = [\"Hello\"]*5\n",
    "print(my_list)"
   ]
  },
  {
   "cell_type": "markdown",
   "metadata": {},
   "source": [
    "### 2.1.1 Iterating over lists\n",
    "\n",
    "Looping over each item in a list is called *iterating*. \n",
    "\n",
    "To iterate over the members of the lab group we use a `for` loop: "
   ]
  },
  {
   "cell_type": "code",
   "execution_count": 31,
   "metadata": {},
   "outputs": [
    {
     "name": "stdout",
     "output_type": "stream",
     "text": [
      "Sara\n",
      "Mari\n",
      "Quang\n"
     ]
    }
   ],
   "source": [
    "for member in lab_group0:\n",
    "    print(member)"
   ]
  },
  {
   "cell_type": "markdown",
   "metadata": {},
   "source": [
    "### 2.1.2 Manipulating lists \n",
    "\n",
    "There are many functions for manipulating lists. \n",
    "\n",
    "To sort the list by alphabetical order we use `sorted()`:"
   ]
  },
  {
   "cell_type": "code",
   "execution_count": 38,
   "metadata": {},
   "outputs": [
    {
     "name": "stdout",
     "output_type": "stream",
     "text": [
      "['Sara', 'Mari', 'Quang']\n",
      "['Mari', 'Quang', 'Sara']\n"
     ]
    }
   ],
   "source": [
    "lab_group0 = [\"Sara\", \"Mari\", \"Quang\"]\n",
    "\n",
    "print(lab_group0)\n",
    "\n",
    "lab_group0 = sorted(lab_group0)\n",
    "\n",
    "print(lab_group0)"
   ]
  },
  {
   "cell_type": "markdown",
   "metadata": {},
   "source": [
    "As with `len()` we include the name of the list we want to sort in the brackets. "
   ]
  },
  {
   "cell_type": "markdown",
   "metadata": {},
   "source": [
    "There is a shortcut for sorting a list\n",
    "\n",
    "`sort` is known as a 'method' of a `list`. \n",
    "\n",
    "If we suffix a list with `.sort()`, it performs an *in-place* sort."
   ]
  },
  {
   "cell_type": "code",
   "execution_count": 42,
   "metadata": {},
   "outputs": [
    {
     "name": "stdout",
     "output_type": "stream",
     "text": [
      "['Sara', 'Mari', 'Quang']\n",
      "['Mari', 'Quang', 'Sara']\n"
     ]
    }
   ],
   "source": [
    "lab_group0 = [\"Sara\", \"Mari\", \"Quang\"]\n",
    "\n",
    "print(lab_group0)\n",
    "\n",
    "#lab_group0 = sorted(lab_group0)\n",
    "lab_group0.sort()\n",
    "\n",
    "print(lab_group0)"
   ]
  },
  {
   "cell_type": "markdown",
   "metadata": {},
   "source": [
    "We can remove items from a list using the method `pop`.\n",
    "\n",
    "We place the index of the element we wich to remove in brackets. "
   ]
  },
  {
   "cell_type": "code",
   "execution_count": 44,
   "metadata": {},
   "outputs": [
    {
     "name": "stdout",
     "output_type": "stream",
     "text": [
      "['Mari', 'Sara']\n",
      "['Mari']\n"
     ]
    }
   ],
   "source": [
    "print(lab_group0)\n",
    "\n",
    "# Remove the second student \n",
    "# remember indexing starts from 0\n",
    "# 1 is the second element\n",
    "\n",
    "lab_group0.pop(1)\n",
    "print(lab_group0)"
   ]
  },
  {
   "cell_type": "markdown",
   "metadata": {},
   "source": [
    "We can add items at the end of a list using the method `append`.\n",
    "\n",
    "We place the element we want to add to the end of the list in brackets. "
   ]
  },
  {
   "cell_type": "code",
   "execution_count": 46,
   "metadata": {},
   "outputs": [
    {
     "name": "stdout",
     "output_type": "stream",
     "text": [
      "['Mari', 'Lia', 'Lia']\n"
     ]
    }
   ],
   "source": [
    "# Add new student \"Lia\" at the end of the list\n",
    "lab_group0.append(\"Lia\")\n",
    "print(lab_group0)"
   ]
  },
  {
   "cell_type": "markdown",
   "metadata": {},
   "source": [
    "## 2.1.3 Indexing\n",
    "\n",
    "Lists store data in order.\n",
    "\n",
    "We can select a single element of a list using its index.\n",
    "\n",
    "You are familiar with this process; it is the same as selecting individual characters of a `string`:"
   ]
  },
  {
   "cell_type": "code",
   "execution_count": 49,
   "metadata": {},
   "outputs": [
    {
     "data": {
      "text/plain": [
       "'t'"
      ]
     },
     "execution_count": 49,
     "metadata": {},
     "output_type": "execute_result"
    }
   ],
   "source": [
    "a = \"string\"\n",
    "b = a[1]\n",
    "print(b)"
   ]
  },
  {
   "cell_type": "code",
   "execution_count": 50,
   "metadata": {},
   "outputs": [
    {
     "name": "stdout",
     "output_type": "stream",
     "text": [
      "Mari Lia\n"
     ]
    }
   ],
   "source": [
    "first_member = lab_group0[0]\n",
    "third_member = lab_group0[2]\n",
    "print(first_member, third_member)"
   ]
  },
  {
   "cell_type": "markdown",
   "metadata": {},
   "source": [
    "Indices can be useful when looping through the items in a list.`"
   ]
  },
  {
   "cell_type": "code",
   "execution_count": 53,
   "metadata": {},
   "outputs": [
    {
     "name": "stdout",
     "output_type": "stream",
     "text": [
      "Mari\n",
      "Lia\n",
      "Lia\n",
      "Mari\n",
      "Lia\n",
      "Lia\n"
     ]
    }
   ],
   "source": [
    "# We can express the following for loop:\n",
    "for i in lab_group0:\n",
    "    print(i)\n",
    "    \n",
    "# as:\n",
    "for i in range(len(lab_group0)):\n",
    "    print(lab_group0[i])"
   ]
  },
  {
   "cell_type": "markdown",
   "metadata": {},
   "source": [
    "In this case:\n",
    " - the first value in the range is 0.\n",
    " - the last value in the range is (list length - 1). "
   ]
  },
  {
   "cell_type": "markdown",
   "metadata": {},
   "source": [
    "Indexing can be useful for numerical computations. \n",
    "\n",
    "__Example: The dot product of two vectors:__\n",
    "\n",
    "__Vector:__ A quantity with magnitude and direction.\n",
    "\n",
    "Position vectors (or displacement vectors) in 3D space can always be expressed in terms of x,y, and z-directions.  \n",
    "\n",
    "<img src=\"../../../ILAS_seminars/intro to python/img/3d_position_vector.png\" alt=\"Drawing\" style=\"width: 250px;\"/>\n",
    "\n",
    "The position vector 𝒓 indicates the position of a point in 3D space.\n",
    "\n",
    "𝒊 is the displacement one unit in the x-direction\n",
    "𝒋 is the displacement one unit in the y-direction\n",
    "𝒌 is the displacement one unit in the z-direction\n",
    "\n",
    "The scaler coefficients 𝑥, 𝑦, 𝑧 give us the position vector 𝒓 = 𝑥𝒊 + 𝑦𝒋 + 𝑧𝒌\n",
    "\n",
    "The ordered basis of a vector, 𝒓,  in 3D space is [𝒊,𝒋,𝒌]\n",
    "\n",
    "The brackets [] indicate the order.\n",
    "\n",
    "So we often express position vector r as $ r = [x, y, z]$\n",
    "\n",
    "...which looks a lot like a Python list!\n",
    "\n",
    "3D vectors are used to describe many physical quantities, such as force.\n",
    "\n",
    "The __dot product__ is a really useful algebraic operation that takes two equal-length sequences of numbers (usually coordinate vectors) and returns a single number.\n",
    "\n",
    "It can be expressed mathematically as:\n",
    "\n",
    "__GEOMETRIC REPRESENTATION__\n",
    "\n",
    "\\begin{align}\n",
    "\\mathbf{A} \\cdot \\mathbf{B} = |\\mathbf{A}| |\\mathbf{B}| cos(\\theta)\n",
    "\\end{align}\n",
    "\n",
    "<img src=\"../../../ILAS_seminars/intro to python/img/dot_product.gif\" alt=\"Drawing\" style=\"width: 250px;\"/>\n",
    "\n",
    "$\\mathbf{B} cos(\\theta)$ is the component of $B$ acting in the direction of $A$.\n",
    "\n",
    "__ALGEBRAIC REPRESENTATION__\n",
    "\n",
    "\n",
    ">The dot product of two $n$-length-vectors is: \n",
    "\n",
    "\n",
    "\\begin{align}\n",
    "\\mathbf{A} \\cdot \\mathbf{B} = \\sum_{i=1}^n A_i B_i.\n",
    "\\end{align}\n",
    "\n",
    ">For a three-vector consisting of $x$, $y$, and $z$ components,\n",
    ">\n",
    "\\begin{align}\n",
    "\\mathbf{A} \\cdot \\mathbf{A} &= \\sum_{i=1}^n A_i B_i \\\\\n",
    "&= A_x B_x + A_y B_y + A_z B_z.\n",
    "\\end{align}"
   ]
  },
  {
   "cell_type": "markdown",
   "metadata": {},
   "source": [
    "__Example:__ Dot product of vectors $\\mathbf{A}$ = [1, 3, −5] and $\\mathbf{B}$ = [4, −2, −1]:\n",
    "\n",
    "\n",
    "\\begin{align}\n",
    "      {\\displaystyle {\\begin{aligned}\\ [1,3,-5]\\cdot [4,-2,-1]&=(1)(4)+(3)(-2)+(-5)(-1)\\\\&=4-6+5\\\\&=3\\end{aligned}}} \n",
    "\\end{align}\n",
    "\n",
    "We can solve this very easily using Python.\n",
    "\n"
   ]
  },
  {
   "cell_type": "code",
   "execution_count": 4,
   "metadata": {},
   "outputs": [
    {
     "name": "stdout",
     "output_type": "stream",
     "text": [
      "3.0\n"
     ]
    }
   ],
   "source": [
    "A = [1.0, 3.0, -5.0]\n",
    "B = [4.0, -2.0, -1.0]\n",
    "\n",
    "# Compute dot-product\n",
    "dot_product = 0.0\n",
    "\n",
    "for i in range(len(A)):\n",
    "    dot_product += A[i]*B[i]\n",
    "\n",
    "print(dot_product)"
   ]
  },
  {
   "cell_type": "markdown",
   "metadata": {
    "collapsed": true
   },
   "source": [
    "By considering the __GEOMETRIC__ representation of the dot product we can see that this simple piece of code can allow us to quickly solve many engineering-related problems:\n",
    " - Test if two vectors are perpendicular (if perpendicular the dot product is equal to 0).\n",
    " - Find the angle between two vectors (from its cosine).\n",
    " - Gives the magnitude of one vector in the direction of another.\n",
    " (e.g. resolving forces into their component directions).   \n"
   ]
  },
  {
   "cell_type": "markdown",
   "metadata": {},
   "source": [
    "__Example:__\n",
    "\n",
    "i) How much work is done by pushing the object for 10m\n",
    "\n",
    "ii) How much force \n",
    "\n",
    "could tell me how much force is actually helping the object move, when pushing at an angle.\"\n",
    "\n",
    "<img src=\"../../../ILAS_seminars/intro to python/img/dot_product.gif\" alt=\"Drawing\" style=\"width: 250px;\"/>"
   ]
  }
 ],
 "metadata": {
  "kernelspec": {
   "display_name": "Python 3",
   "language": "python",
   "name": "python3"
  },
  "language_info": {
   "codemirror_mode": {
    "name": "ipython",
    "version": 3
   },
   "file_extension": ".py",
   "mimetype": "text/x-python",
   "name": "python",
   "nbconvert_exporter": "python",
   "pygments_lexer": "ipython3",
   "version": "3.5.2"
  }
 },
 "nbformat": 4,
 "nbformat_minor": 2
}
