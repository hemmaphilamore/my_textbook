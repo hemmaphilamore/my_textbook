{
 "cells": [
  {
   "cell_type": "code",
   "execution_count": null,
   "metadata": {
    "collapsed": true
   },
   "outputs": [],
   "source": [
    "# Functions\n",
    "\n",
    "## Lesson Goal\n",
    "\n",
    "......\n",
    "\n",
    "## Objectives\n",
    "\n",
    "- Introduce construction and use of user functions\n",
    "- Returning from functions\n",
    "- Default arguments\n",
    "- Recursion"
   ]
  },
  {
   "cell_type": "markdown",
   "metadata": {},
   "source": [
    "# 1. What is a function?\n",
    "\n",
    "Functions are one of the most important concepts in computing. \n",
    "\n",
    "In mathematics, a function is a relation between __inputs__ and a set of permissible __outputs__.\n",
    "\n",
    "Example: The functoin relating $x$ to $x^2$ is:\n",
    "$$ \n",
    "f(x) = x \\cdot x\n",
    "$$"
   ]
  },
  {
   "cell_type": "markdown",
   "metadata": {},
   "source": [
    "In programming, a function behaves in a similar way. \n",
    "\n",
    "__Function__: A named section of a code that performs a specific task. \n",
    "\n",
    "Functions can (although do no always) take data as __inputs__ and return __outputs__.\n",
    "\n",
    " \n",
    "A simple function example:\n",
    " - Inputs: the coordinates of the vertices of a triangle.\n",
    " - Output: the area of the triangle. "
   ]
  },
  {
   "cell_type": "markdown",
   "metadata": {},
   "source": [
    "You are already familiar with some *built in* Python functions:\n",
    "\n",
    "   - `print()` takes the __input__ in the parentheses and __outputs__ a visible representation.\n",
    "   - `len()` takes a data structure as __input__ in the parentheses and __outputs__ the number of items in the data structure (in one direction).\n",
    "   - `sorted()` takes a data structure as __input__ in the parentheses and __outputs__ the data structure sorted by a rule determined by the data type.\n",
    "   \n",
    "   \n"
   ]
  },
  {
   "cell_type": "markdown",
   "metadata": {},
   "source": [
    "Most Python programs contain a number of *custom functions*. \n",
    "\n",
    "These are functions, created by the programmer (you!) to perform a specific task."
   ]
  },
  {
   "cell_type": "markdown",
   "metadata": {},
   "source": [
    "## 1.1 The Anatomy of a Function\n",
    "\n",
    "Here is a python function in pseudocode:\n",
    "        \n",
    "        def function_name():\n",
    "            code to execute\n",
    "            more code to execute\n",
    "            \n",
    "\n"
   ]
  },
  {
   "cell_type": "markdown",
   "metadata": {},
   "source": [
    "A custom function is __declared__ using:\n",
    "1. The definition keyword, `def`.\n",
    "1. A name of your choice.\n",
    "1. () parentheses\n",
    "1. : a colon character\n",
    "1. The code to be executed when the function is *called*. "
   ]
  },
  {
   "cell_type": "markdown",
   "metadata": {},
   "source": [
    "Below is an example of a Python function.\n"
   ]
  },
  {
   "cell_type": "code",
   "execution_count": null,
   "metadata": {
    "collapsed": true
   },
   "outputs": [],
   "source": [
    "def sum_and_increment(a, b):    \n",
    "    c = a + b + 1\n",
    "    return c"
   ]
  },
  {
   "cell_type": "markdown",
   "metadata": {},
   "source": [
    "The function name is `sum_and_increment`.<br>\n",
    "The function has two __inputs__ (*arguments*), `a` and `b`.<br>\n",
    "Any inputs to the function are placed within the () parentheses.\n",
    "\n",
    "  ```python\n",
    "  def sum_and_increment(a, b): \n",
    "  \n",
    "  ```\n",
    "The code to be executed when the function is called (*the body*) is indented by four spaces. <br>\n",
    "(Indentation happens automatically following `def`).<br>\n",
    "Code indented to the same level (or less) as `def` falls __outside__ of the function body.\n",
    "\n",
    "  ```python\n",
    "      c = a + b + 1\n",
    "      return c\n",
    "  ```\n",
    "At the end of a function there is usually (though not always) a __`return`__ statement. <br>\n",
    "This defines what result the function should return. "
   ]
  },
  {
   "cell_type": "markdown",
   "metadata": {},
   "source": [
    "It is best practise to include a *documentation string*.<br> \n",
    "The \"doc string\" describes __in words__ what the function does.<br> \n",
    "It begins and end with `\"\"\"`.<br>\n",
    "The doc-string is __optional__ however it makes your code more understandadble to you and other people using it. \n",
    "<br>"
   ]
  },
  {
   "cell_type": "code",
   "execution_count": null,
   "metadata": {
    "collapsed": true
   },
   "outputs": [],
   "source": [
    "def sum_and_increment(a, b):\n",
    "    \"\"\"\"\n",
    "    Return the sum of a and b, plus 1\n",
    "    \"\"\"\n",
    "    c = a + b + 1\n",
    "    return c\n"
   ]
  },
  {
   "cell_type": "markdown",
   "metadata": {},
   "source": [
    "To execute (*call*) the function, type:\n",
    " - a variable name to store the output (`n` in the example below)\n",
    " - the function name\n",
    " - any arguments in parentheses"
   ]
  },
  {
   "cell_type": "code",
   "execution_count": null,
   "metadata": {
    "collapsed": true
   },
   "outputs": [],
   "source": [
    "m = sum_and_increment(3, 4)\n",
    "print(m)  # Expect 8\n",
    "\n",
    "m = 10\n",
    "n = sum_and_increment(m, m)\n",
    "print(n)  # Expect 21\n",
    "\n",
    "#m = sum_and_increment(2, 1)\n",
    "#print(m) \n",
    "\n",
    "#l = 5\n",
    "#m = 6\n",
    "#n = sum_and_increment(m, l)\n",
    "#print(m) \n",
    "\n",
    "#m = 2\n",
    "#m = sum_and_increment(m, m)\n",
    "#print(m) "
   ]
  },
  {
   "cell_type": "markdown",
   "metadata": {},
   "source": [
    "Example: a function that:\n",
    "- does not take any arguments\n",
    "- does not return any variables."
   ]
  },
  {
   "cell_type": "code",
   "execution_count": 4,
   "metadata": {},
   "outputs": [
    {
     "name": "stdout",
     "output_type": "stream",
     "text": [
      "The function 'print_message' has been called.\n"
     ]
    }
   ],
   "source": [
    "def print_message():\n",
    "    print(\"The function 'print_message' has been called.\")\n",
    "\n",
    "print_message()"
   ]
  },
  {
   "cell_type": "markdown",
   "metadata": {},
   "source": [
    "Functions are ideal for repetitive tasks. <br>\n",
    "Computer code to be re-used multiple times with different input data. <br>\n",
    "Re-using code reduces the risk of making mistakes or errors. \n",
    "\n"
   ]
  },
  {
   "cell_type": "markdown",
   "metadata": {},
   "source": [
    "Below is a simple example of a function using `if` and `else` control statements.`\n",
    "\n"
   ]
  },
  {
   "cell_type": "code",
   "execution_count": 7,
   "metadata": {
    "collapsed": true
   },
   "outputs": [],
   "source": [
    "def process_value(x):\n",
    "    \"Return a value that depends on the input value x \"\n",
    "    if x > 10:\n",
    "        return 0\n",
    "    elif x > 5:\n",
    "        return x*x\n",
    "    elif x > 0:\n",
    "        return x**3\n",
    "    else:\n",
    "        return x"
   ]
  },
  {
   "cell_type": "markdown",
   "metadata": {},
   "source": [
    "By placing these in a function we can avoid duplicating the `if-elif-else` statement every time we want to use it. \n"
   ]
  },
  {
   "cell_type": "code",
   "execution_count": 8,
   "metadata": {},
   "outputs": [
    {
     "name": "stdout",
     "output_type": "stream",
     "text": [
      "27\n"
     ]
    }
   ],
   "source": [
    "print(process_value(3))"
   ]
  },
  {
   "cell_type": "markdown",
   "metadata": {},
   "source": [
    "Below is a simple example of a function being 'called' numerous times from inside a `for` loop."
   ]
  },
  {
   "cell_type": "code",
   "execution_count": 14,
   "metadata": {},
   "outputs": [
    {
     "name": "stdout",
     "output_type": "stream",
     "text": [
      "0\n",
      "1\n",
      "8\n",
      "0\n",
      "1\n",
      "8\n"
     ]
    }
   ],
   "source": [
    "for x in range(3):\n",
    "    print(process_value(x))\n",
    "       \n",
    "# which is much neater than\n",
    "    \n",
    "for x in range(3):\n",
    "    if x > 10:\n",
    "        print(0)\n",
    "    elif x > 5:\n",
    "        print(x*x)\n",
    "    elif x > 0:\n",
    "        print(x**3)\n",
    "    else:\n",
    "        print(x)\n",
    "    \n",
    "# but gives the same result:"
   ]
  },
  {
   "cell_type": "markdown",
   "metadata": {},
   "source": [
    "The more times we want to use the function, the more useful this becomes:"
   ]
  },
  {
   "cell_type": "code",
   "execution_count": 25,
   "metadata": {},
   "outputs": [
    {
     "name": "stdout",
     "output_type": "stream",
     "text": [
      "0\n",
      "1\n",
      "8\n",
      "0\n",
      "1\n",
      "8\n",
      "27\n",
      "64\n",
      "125\n",
      "36\n",
      "49\n",
      "64\n",
      "81\n",
      "100\n",
      "0\n"
     ]
    }
   ],
   "source": [
    "def process_value(x):\n",
    "    \"Return a value that depends on the input value x \"\n",
    "    if x > 10:\n",
    "        return 0\n",
    "    elif x > 5:\n",
    "        return x*x\n",
    "    elif x > 0:\n",
    "        return x**3\n",
    "    else:\n",
    "        return x\n",
    "       \n",
    "for y in range(3):\n",
    "    print(process_value(y))\n",
    "\n",
    " \n",
    "for y in range(12):\n",
    "    print(process_value(y))\n",
    "    \n",
    "\n",
    "#for y in range(2):\n",
    "    #print(process_value(y))"
   ]
  },
  {
   "cell_type": "markdown",
   "metadata": {},
   "source": [
    "The `return` keyword works a bit like the `break` statement does in a loop.\n",
    "\n",
    "It returns the value and then exits the function before running the rest of the code.\n",
    "\n",
    "This can be an efficient way to structure the code.\n",
    "\n",
    "But what is we want the prgram to do something else before exiting the function.\n",
    "\n",
    "In the following example, we want the function to :\n",
    "- return the input value of global varibale `x` as a string, with some information.\n",
    "- increase the value of `x` by 1\n",
    "\n",
    "\n",
    "\n",
    "If we place the code to increase x by one first, the new value (not the input value) is printed.\n",
    "\n",
    "If we place the code to increase x by one last, the value of `x` does not increase. \n"
   ]
  },
  {
   "cell_type": "code",
   "execution_count": 50,
   "metadata": {},
   "outputs": [
    {
     "name": "stdout",
     "output_type": "stream",
     "text": [
      "1 > 0\n",
      "1 > 0\n"
     ]
    }
   ],
   "source": [
    "x = 1\n",
    "\n",
    "def process_value(X):\n",
    "    \"Return a value that depends on the input value x \"\n",
    "    if X > 10:\n",
    "        return str(X) + \" > 10\"\n",
    "    elif X > 5:\n",
    "        return str(X) + \" > 5\"\n",
    "    elif X > 0:\n",
    "        return str(X) + \" > 0\"\n",
    "    else:\n",
    "        return str(X)\n",
    "    \n",
    "    \"Increment global x by +1 \"\n",
    "    global x\n",
    "    x = X + 1 \n",
    "    \n",
    "print(process_value(x))\n",
    "print(process_value(x))"
   ]
  },
  {
   "cell_type": "code",
   "execution_count": null,
   "metadata": {
    "collapsed": true
   },
   "outputs": [],
   "source": [
    "If we place the code to increase x by one last, the value of `x` does not increase. "
   ]
  },
  {
   "cell_type": "code",
   "execution_count": 53,
   "metadata": {},
   "outputs": [
    {
     "name": "stdout",
     "output_type": "stream",
     "text": [
      "2 > 0\n"
     ]
    }
   ],
   "source": [
    "x = 1\n",
    "\n",
    "def process_value(X):\n",
    "    \"Increment global x by +1 \"\n",
    "    global x\n",
    "    x = X + 1 \n",
    "    \n",
    "    \"Return a value that depends on the input value x \"\n",
    "    if x > 10:\n",
    "        return str(x) + \" > 10\"\n",
    "    elif x > 5:\n",
    "        return str(x) + \" > 5\"\n",
    "    elif x > 0:\n",
    "        return str(x) + \" > 0\"\n",
    "    else:\n",
    "        return str(x)\n",
    "\n",
    "    \n",
    "    \n",
    "print(process_value(x))"
   ]
  },
  {
   "cell_type": "markdown",
   "metadata": {},
   "source": [
    "Functions can make programs more readable.<br>\n",
    "\n",
    "__Example:__ <br>\n",
    "A function called `sin`, that computes and returns $\\sin(x)$, <br>\n",
    "is far more readable than writing the equation for  $\\sin(x)$ every time we want to use it. "
   ]
  },
  {
   "cell_type": "markdown",
   "metadata": {},
   "source": [
    "## 1.2 Function Arguments\n",
    "\n",
    "It is important to input arguments in the correct order when calling a function.         \n",
    "\n"
   ]
  },
  {
   "cell_type": "code",
   "execution_count": 18,
   "metadata": {
    "collapsed": true
   },
   "outputs": [],
   "source": [
    "def sum_and_increment(a, b):\n",
    "            \"\"\"\"\n",
    "            Return the sum of a and b, plus 1\n",
    "            \"\"\"\n",
    "            c = a + b + 1\n",
    "            return c"
   ]
  },
  {
   "cell_type": "markdown",
   "metadata": {},
   "source": [
    "The function `sum_and_increment` takes adds:\n",
    " - the first argument, `a`\n",
    " - ...to the second argument `b`\n",
    " - ...to 1.\n",
    " \n",
    "If the order of a and b is switched, the result is the same.\n"
   ]
  },
  {
   "cell_type": "code",
   "execution_count": 20,
   "metadata": {},
   "outputs": [
    {
     "name": "stdout",
     "output_type": "stream",
     "text": [
      "8\n",
      "8\n"
     ]
    }
   ],
   "source": [
    "print(sum_and_increment(3,4))\n",
    "print(sum_and_increment(4,3))"
   ]
  },
  {
   "cell_type": "markdown",
   "metadata": {},
   "source": [
    "However, if we subtract one argument from the other, the result depends on the input order: "
   ]
  },
  {
   "cell_type": "code",
   "execution_count": 21,
   "metadata": {},
   "outputs": [
    {
     "name": "stdout",
     "output_type": "stream",
     "text": [
      "0\n",
      "2\n"
     ]
    }
   ],
   "source": [
    "def subtract_and_increment(a, b):\n",
    "    \"\"\"\"\n",
    "    Return a minus b, plus 1\n",
    "    \"\"\"\n",
    "    c = a - b + 1\n",
    "    return c\n",
    "\n",
    "print(subtract_and_increment(3,4))\n",
    "print(subtract_and_increment(4,3))"
   ]
  },
  {
   "cell_type": "markdown",
   "metadata": {},
   "source": [
    "If a function has many arguments, it can be easy to make a mistake in the input order.  \n",
    "\n",
    "This can lead to errors in how the program functions (termed *a bug*).  \n",
    "\n",
    "We can reduce this risk by giving inputs as *named* arguments. \n",
    "\n",
    "Using named arguments can also enhance program readability. \n",
    "\n",
    "When we use named arguments, the order of input does not matter.  "
   ]
  },
  {
   "cell_type": "code",
   "execution_count": 23,
   "metadata": {},
   "outputs": [
    {
     "name": "stdout",
     "output_type": "stream",
     "text": [
      "0\n",
      "0\n"
     ]
    }
   ],
   "source": [
    "alpha = 3\n",
    "beta = 4\n",
    "\n",
    "print(subtract_and_increment(a=alpha, b=beta))\n",
    "\n",
    "print(subtract_and_increment(b=beta, a=alpha))  "
   ]
  },
  {
   "cell_type": "markdown",
   "metadata": {},
   "source": [
    "### 1.2.1 What can be passed as a function argument?\n",
    "\n",
    "*Object* types that can be passed as arguments to functions include:\n",
    "- single variables (`int`, `float`...)\n",
    "- data structures (`list`, `tuple`, `dict`...)\n",
    "- __other functions__ \n",
    "\n",
    "Example: the function `is_positive` checks if the value of a function $f$, evaluated at $x$, is positive:"
   ]
  },
  {
   "cell_type": "code",
   "execution_count": 26,
   "metadata": {},
   "outputs": [
    {
     "name": "stdout",
     "output_type": "stream",
     "text": [
      "True\n",
      "False\n"
     ]
    }
   ],
   "source": [
    "def is_positive(f, x):\n",
    "    \"\"\"\n",
    "    Check if the function value f(x) is positive\n",
    "    \"\"\"\"\n",
    "    if f(x) > 0:\n",
    "        return True\n",
    "    else:\n",
    "        return False\n",
    "    \n",
    "def f0(x):\n",
    "    \"\"\"\n",
    "    Computes x^2 - 1\n",
    "    \"\"\"\n",
    "    return x*x - 1\n",
    "\n",
    "\n",
    "def f1(x):\n",
    "    \"\"\"\n",
    "    Computes -x^2 + 2x + 1\n",
    "    \"\"\"\n",
    "    return -x*x + 2*x + 1\n",
    "\n",
    "    \n",
    "# Value of x to test\n",
    "x = 4.5\n",
    "\n",
    "# Test function f0\n",
    "print(is_positive(f0, x))\n",
    "\n",
    "# Test function f1\n",
    "print(is_positive(f1, x))"
   ]
  },
  {
   "cell_type": "markdown",
   "metadata": {},
   "source": [
    "__Note:__ The order that we *define* the functions does not effect the output. "
   ]
  },
  {
   "cell_type": "markdown",
   "metadata": {},
   "source": [
    "### 1.2.2 Default arguments\n",
    "\n",
    "'Default' arguments have a default initial value.\n",
    "\n",
    "The default value can be overridden when the function is called. \n",
    "\n",
    "In some cases it just saves the programmer effort - they can write less code. \n",
    "\n",
    "In other cases allows a function to be applied to a wider range of problems. \n",
    "\n",
    "__Example:__\n",
    "\n",
    "We can use the same function for 2D vectors and 3D vectors. \n",
    "\n",
    "The default value for the z component is zero.\n",
    "\n",
    "So the third argument of the function, `z`, is 0 by default."
   ]
  },
  {
   "cell_type": "code",
   "execution_count": 51,
   "metadata": {},
   "outputs": [
    {
     "name": "stdout",
     "output_type": "stream",
     "text": [
      "[2.0, 1.5, 0.0]\n",
      "[2.0, 1.5, 6]\n"
     ]
    }
   ],
   "source": [
    "def vector_3D(x, y, z=0.0):\n",
    "    \"\"\"\n",
    "    Expresses 2D or 3D vector in 3D space, as a list.\n",
    "    \"\"\"\n",
    "    return[x, y, z]"
   ]
  },
  {
   "cell_type": "code",
   "execution_count": null,
   "metadata": {
    "collapsed": true
   },
   "outputs": [],
   "source": [
    "print(vector_3D(2.0 ,1.5 ,6.0))  \n",
    "print(vector_3D(2.0, 1.5))\n"
   ]
  },
  {
   "cell_type": "markdown",
   "metadata": {},
   "source": [
    "__Example:__\n",
    "\n",
    "We can use the same function for 1D, 2D and 3D vectors. \n",
    "\n",
    "The default values for the y and z components are both zero."
   ]
  },
  {
   "cell_type": "code",
   "execution_count": 53,
   "metadata": {
    "collapsed": true
   },
   "outputs": [],
   "source": [
    "def vector_3D(x, y = 0.0, z = 0.0):\n",
    "    \"\"\"\n",
    "    Expresses 1D, 2D or 3D vector in 3D space, as a list.\n",
    "    \"\"\"\n",
    "    return[x, y, z]"
   ]
  },
  {
   "cell_type": "code",
   "execution_count": 58,
   "metadata": {},
   "outputs": [
    {
     "name": "stdout",
     "output_type": "stream",
     "text": [
      "[2.0, 1.5, 6.0]\n",
      "[2.0, 1.5, 0.0]\n",
      "[2.0, 0.0, 0.0]\n"
     ]
    }
   ],
   "source": [
    "print(vector_3D(2.0 ,1.5 ,6.0))\n",
    "print(vector_3D(2.0, 1.5))\n",
    "print(vector_3D(2.0))"
   ]
  },
  {
   "cell_type": "markdown",
   "metadata": {},
   "source": [
    "__Example__\n",
    "<br>\n",
    "Consider the position $r$ of a particle with initial position $r_{0}$ and initial velocity $v_{0}$, and subject to a constant acceleration $a$. \n",
    "<br>\n",
    "From the equations of motion, the position $r(t)$ is given by:  \n",
    "\n",
    "$$\n",
    "r(t) = r(0) + v(0) t + \\frac{1}{2} a t^{2}\n",
    "$$\n",
    "\n",
    "When measuring an object falling from rest, due to gravity. \n",
    "\n",
    " - the acceleration `a`=$g = 9.81$ m s$^{-1}$ is sufficiently accurate *in most cases*. \n",
    " - the initial velocity, `v0`, is always zero. \n",
    " - the initial position, `r0`, is the height from which the object falls. \n",
    " \n",
    "We can use default arguments for the velocity `v0` and the acceleration `a`:"
   ]
  },
  {
   "cell_type": "code",
   "execution_count": 59,
   "metadata": {
    "collapsed": true
   },
   "outputs": [],
   "source": [
    "def position(t, r0, v0=0.0, a= -9.81):\n",
    "    \"\"\"\n",
    "    Computes position of an accelerating particle.\n",
    "    \"\"\"\n",
    "    return r0 + (v0 * t) + (0.5 * a * t**2)"
   ]
  },
  {
   "cell_type": "markdown",
   "metadata": {},
   "source": [
    "__Note__ that we __do not__ need to include the default variables in the brackets when calling the function. \n",
    "\n"
   ]
  },
  {
   "cell_type": "code",
   "execution_count": 61,
   "metadata": {},
   "outputs": [
    {
     "name": "stdout",
     "output_type": "stream",
     "text": [
      "height = 0.8038 m\n"
     ]
    }
   ],
   "source": [
    "# Position at t = 0.2s, when dropped from r0 = 1m\n",
    "\n",
    "p = position(0.2, 1.0)\n",
    "\n",
    "print(\"height =\", p, \"m\")"
   ]
  },
  {
   "cell_type": "markdown",
   "metadata": {},
   "source": [
    "At the equator, the acceleration due to gravity is lower, `a`=$g = 9.78$ m s$^{-1}$\n",
    "\n",
    "For some calculations, this makes a significnat difference. \n",
    "\n",
    "In this case, we simply override the default value for acceleration:  "
   ]
  },
  {
   "cell_type": "code",
   "execution_count": 62,
   "metadata": {},
   "outputs": [
    {
     "name": "stdout",
     "output_type": "stream",
     "text": [
      "height = 0.8044 m\n"
     ]
    }
   ],
   "source": [
    "# Position at t = 0.2s, when dropped from r0 = 1m\n",
    "\n",
    "p = position(0.2, 1, 0.0, -9.78)\n",
    "\n",
    "print(\"height =\", p, \"m\")"
   ]
  },
  {
   "cell_type": "markdown",
   "metadata": {},
   "source": [
    "__Note__ that we have *also* passed the initial velocity, `v`.\n",
    "\n",
    "As the value to overide is the 4th argument, the 3rd argument must also be input. \n",
    "\n",
    "The function interprets:\n",
    "\n",
    "    p = position(0.2, 1, -9.78)\n",
    "    \n",
    "as\n",
    "\n",
    "    p = position(0.2, 1, -9.78 -9.81)\n",
    "    \n",
    "\n",
    "Manually inputting an argument, `v0` when we want to use its default is risky.  \n",
    "\n",
    "We may accidentally input the default value of `v0` incorrectly, causing a bug. \n",
    "\n",
    "A more robust solution is to specify the acceleration by using a named argument. "
   ]
  },
  {
   "cell_type": "code",
   "execution_count": 65,
   "metadata": {},
   "outputs": [
    {
     "name": "stdout",
     "output_type": "stream",
     "text": [
      "0.8044\n"
     ]
    }
   ],
   "source": [
    "# Position at t = 0.2s, when dropped from r0 = 1m\n",
    "\n",
    "p = position(0.2, 1, a = -9.78)\n",
    "\n",
    "print(p)"
   ]
  },
  {
   "cell_type": "markdown",
   "metadata": {
    "collapsed": true
   },
   "source": [
    "The program overwrites the correct default value.\n",
    "\n",
    "We do not have to specify `v`. "
   ]
  },
  {
   "cell_type": "markdown",
   "metadata": {},
   "source": [
    "__Try it yourself__\n",
    "\n",
    "The hydrostatic pressure (the pressure due to the overlying fluid) of a submerged object is:\n",
    "\n",
    "$$\n",
    "P = \\rho g h\n",
    "$$\n",
    "\n",
    "Where: $g$ is the acceleration due to gravity, $g = 9.81$ m s$^{-2}$, $\\rho $ is the fluid density and $h$ is the height of the fluid above the object. \n",
    "\n",
    "<img src=\"../../../ILAS_seminars/intro to python/img/HydrostaticPressure.png\" alt=\"Drawing\" style=\"width: 350px;\"/>\n",
    "\n",
    "In the cell below, write a function that:\n",
    " - takes $g$, $\\rho$ and $h$ as __inputs__\n",
    " - returns (outputs) the hydrostatic pressure $P$\n",
    "\n",
    "The acceleration `a`=$g = 9.81$ m s$^{-1}$ is sufficiently accurate *in most cases*. \n",
    "\n",
    "Assume the fucntion will mostly to be used for calculating the hydrostatic pressure on objects submerged in __water__.\n",
    "<br> The density of water, $\\rho_w$ = 1000 kg m$^3$ is sufficiently accurate *in most cases*.\n",
    "\n",
    "Therefore use default arguments for `g` and `rho` in your function. "
   ]
  },
  {
   "cell_type": "code",
   "execution_count": null,
   "metadata": {
    "collapsed": true
   },
   "outputs": [],
   "source": [
    "# Function to compute hydrostatic pressure."
   ]
  },
  {
   "cell_type": "markdown",
   "metadata": {},
   "source": [
    "In the cell below, __call__ your function to find the hydrostatic pressure on an object, submerged in water, at a depth of 10m."
   ]
  },
  {
   "cell_type": "code",
   "execution_count": null,
   "metadata": {
    "collapsed": true
   },
   "outputs": [],
   "source": [
    "# The hydrostatic pressure on an object at a depth of 10m in WATER"
   ]
  },
  {
   "cell_type": "markdown",
   "metadata": {
    "collapsed": true
   },
   "source": [
    "Due to it's salt content, seawater has a higher density, $\\rho_w$ = 1022 kg m$^3$.<br>\n",
    "In the cell below, find the hydrostatic pressure on an object, submerged in __sea water__, at a depth of 10m."
   ]
  },
  {
   "cell_type": "code",
   "execution_count": null,
   "metadata": {
    "collapsed": true
   },
   "outputs": [],
   "source": [
    "# The hydrostatic pressure on an object at a depth of 10m in SEA WATER"
   ]
  },
  {
   "cell_type": "markdown",
   "metadata": {},
   "source": [
    "In the cell below, find the hydrostatic pressure on an object:\n",
    "- submerged in __sea water__\n",
    "- at a depth of 10m\n",
    "- at the equator"
   ]
  },
  {
   "cell_type": "code",
   "execution_count": null,
   "metadata": {
    "collapsed": true
   },
   "outputs": [],
   "source": [
    "# The hydrostatic pressure on an object at a depth of 10m in SEA WATER at the EQUATOR."
   ]
  },
  {
   "cell_type": "markdown",
   "metadata": {},
   "source": [
    "### 1.2.3 Return arguments\n",
    "\n",
    "Most functions (though not all) return data. \n",
    "\n",
    "A __single__ Python function can return:\n",
    "- no values\n",
    "- a single value \n",
    "- multiple return values\n",
    "\n",
    "<br>\n",
    "\n",
    "\n",
    "For example, we could have a function that:\n",
    " - takes three values (`x0, x1, x2`)\n",
    " - returns the maximum, the minimum and the mean\n",
    " "
   ]
  },
  {
   "cell_type": "code",
   "execution_count": null,
   "metadata": {
    "collapsed": true
   },
   "outputs": [],
   "source": [
    "def compute_max_min_mean(x0, x1, x2):\n",
    "    \"Return maximum, minimum and mean values\"\n",
    "    \n",
    "    x_min = x0\n",
    "    if x1 < x_min:\n",
    "        x_min = x1\n",
    "    if x2 < x_min:\n",
    "        x_min = x2\n",
    "\n",
    "    x_max = x0\n",
    "    if x1 > x_max:\n",
    "        x_max = x1\n",
    "    if x2 > x_max:\n",
    "        x_max = x2\n",
    "\n",
    "    x_mean = (x0 + x1 + x2)/3    \n",
    "        \n",
    "    return x_min, x_max, x_mean\n",
    "\n",
    "\n",
    "xmin, xmax, xmean = compute_max_min_mean(0.5, 0.1, -20)\n",
    "print(xmin, xmax, xmean)"
   ]
  },
  {
   "cell_type": "markdown",
   "metadata": {},
   "source": [
    "__Note__ \n",
    "<br> In the last seminar we looked at how to store mulitple variables (e.g. vectors) as lists. \n",
    "<br> The functions above could be implemented more efficiently using lists or tuples. \n",
    "<br>  We will look at how to optimise functions later in the course."
   ]
  },
  {
   "cell_type": "markdown",
   "metadata": {},
   "source": [
    "## 1.3  Introduction to Scope\n",
    "\n",
    "__Global variables:__ Variable that are *declared* __outside__ of a function *can* be used __inside__ on the function. <br>\n",
    "They have *global scope*. \n",
    "\n",
    "__Local variables:__ Variables that are *declared* __inside__ of a function *can not* be used __outside__ of the function. \n",
    "<br>\n",
    "They have *local scope*. "
   ]
  },
  {
   "cell_type": "code",
   "execution_count": 5,
   "metadata": {},
   "outputs": [
    {
     "name": "stdout",
     "output_type": "stream",
     "text": [
      "10.0\n",
      "10.0\n"
     ]
    }
   ],
   "source": [
    "# Here is a global variable\n",
    "global_var = \"Global variable\"\n",
    "\n",
    "\n",
    "def my_func():\n",
    "    # the function can access the global variable\n",
    "    print(global_var)    \n",
    "     \n",
    "    # local variable of the same name\n",
    "    local_var = \"Local variable\"\n",
    "    print(local_var)\n",
    "    \n",
    "\n",
    "# Calling the function prints the local and global variable\n",
    "my_func()\n",
    "\n",
    "\n",
    "# Global variable are accessible outside the function\n",
    "print(global_var)\n",
    "\n",
    "# Local variables are not accessible outside of the function\n",
    "# print(local_var)"
   ]
  },
  {
   "cell_type": "markdown",
   "metadata": {},
   "source": [
    "Due to local scope, variables with the same name can appear globally and in different functions without conflict. \n",
    "\n",
    "This prevents variables declared inside a function from unexpectedly affecting other parts of a program. \n",
    "\n",
    "Where a local and global variable have the same name, the program will use the __local__ version.\n",
    "\n",
    "Let's modify our function `my_func` so now both the local and global varibale have the same name:"
   ]
  },
  {
   "cell_type": "code",
   "execution_count": null,
   "metadata": {
    "collapsed": true
   },
   "outputs": [],
   "source": [
    "# Here is a global variable\n",
    "var = \"Global variable\"\n",
    "\n",
    "\n",
    "def my_func():\n",
    "    # notice what happens this time if we try to access the global variable within the function\n",
    "    print(var)    \n",
    "     \n",
    "    # local variable of the same name\n",
    "    var = \"Local variable\"\n",
    "    print(var)"
   ]
  },
  {
   "cell_type": "markdown",
   "metadata": {},
   "source": [
    "The global variable `var` is unaffected by the local variable `var`."
   ]
  },
  {
   "cell_type": "code",
   "execution_count": 26,
   "metadata": {},
   "outputs": [
    {
     "name": "stdout",
     "output_type": "stream",
     "text": [
      "Local variable\n",
      "Local variable\n",
      "Global variable\n",
      "Local variable\n",
      "Local variable\n"
     ]
    }
   ],
   "source": [
    "# Here is a global variable\n",
    "var = \"Global variable\"\n",
    "\n",
    "\n",
    "def my_func():\n",
    "     \n",
    "    # local variable of the same name\n",
    "    var = \"Local variable\"\n",
    "    return var\n",
    "\n",
    "# Call the function.\n",
    "print(my_func())\n",
    "\n",
    "# The function declaration of 'var' has not affected the global variable 'var'\n",
    "print(var)\n",
    "\n",
    "# We can overwrite the global varibale with the returned value\n",
    "var = my_func()\n",
    "print(var)"
   ]
  },
  {
   "cell_type": "markdown",
   "metadata": {},
   "source": [
    "If we *really* want to use a global variable and a local variable with the same name __within__ a function, we can use the global variable as an __input__ to the function.\n",
    "<br> By inputting it as an argument we can rename the global variable for use within the function:"
   ]
  },
  {
   "cell_type": "code",
   "execution_count": 28,
   "metadata": {},
   "outputs": [
    {
     "name": "stdout",
     "output_type": "stream",
     "text": [
      "Global variable\n",
      "Local variable\n",
      "Global variable Local variable\n"
     ]
    }
   ],
   "source": [
    "# Global variable\n",
    "var = \"Global variable\"\n",
    "\n",
    "def my_func(input_var):\n",
    "    # The argument is given the name input_variable within the function \n",
    "    print(input_var)    \n",
    "     \n",
    "    # Local\n",
    "    var = \"Local variable\"\n",
    "    print(var)\n",
    "    \n",
    "    return (input_var + \" \" + var)\n",
    "\n",
    "\n",
    "# Run the function, giving the global variable as an argument\n",
    "print(my_func(var))"
   ]
  },
  {
   "cell_type": "markdown",
   "metadata": {},
   "source": [
    "The global variable is unaffected by the function"
   ]
  },
  {
   "cell_type": "code",
   "execution_count": 29,
   "metadata": {},
   "outputs": [
    {
     "name": "stdout",
     "output_type": "stream",
     "text": [
      "Global variable\n"
     ]
    }
   ],
   "source": [
    "print(var)"
   ]
  },
  {
   "cell_type": "markdown",
   "metadata": {},
   "source": [
    "...unless we overwrite the value of the global variable."
   ]
  },
  {
   "cell_type": "code",
   "execution_count": 30,
   "metadata": {},
   "outputs": [
    {
     "name": "stdout",
     "output_type": "stream",
     "text": [
      "Global variable\n",
      "Local variable\n",
      "Global variable Local variable\n"
     ]
    }
   ],
   "source": [
    "var = my_func(var)\n",
    "print(var)"
   ]
  },
  {
   "cell_type": "markdown",
   "metadata": {},
   "source": [
    "__Try it yourself__\n",
    "In the cell below:\n",
    "1. Create a global variable with a numeric value\n",
    "1. Create a function that:\n",
    "    - takes the global variable as an input \n",
    "    - creates a local variable with the same name as the global variable\n",
    "    - returns the sum of the two variables\n",
    "1. Print the output of the function.\n",
    "1. print the global variable"
   ]
  },
  {
   "cell_type": "code",
   "execution_count": 31,
   "metadata": {
    "collapsed": true
   },
   "outputs": [],
   "source": [
    "# Global and local scope"
   ]
  },
  {
   "cell_type": "markdown",
   "metadata": {},
   "source": [
    "A local variable  can be accessed from outside the function by making it a global variable.\n",
    "1. Use Python `global` keyword. Give the variable a name.\n",
    "```python\n",
    "global var\n",
    "```\n",
    "1. Assign the variable a value.\n",
    "```python\n",
    "var = 10\n",
    "```\n",
    "If a global variable already exists with the same name it's value will be overwritten:"
   ]
  },
  {
   "cell_type": "code",
   "execution_count": 32,
   "metadata": {},
   "outputs": [
    {
     "name": "stdout",
     "output_type": "stream",
     "text": [
      "Before calling the function var = Global variable\n",
      "After calling the function var = Locally assigned global variable\n"
     ]
    }
   ],
   "source": [
    "# Global variable\n",
    "var = \"Global variable\"\n",
    "\n",
    "\n",
    "def my_func():\n",
    "     \n",
    "    # local variable of the same name\n",
    "    global var\n",
    "    var = \"Locally assigned global variable\"\n",
    "    \n",
    "    \n",
    "print(\"Before calling the function var =\", var)\n",
    "\n",
    "# Call the function.\n",
    "my_func()\n",
    "\n",
    "print(\"After calling the function var =\", var)"
   ]
  },
  {
   "cell_type": "markdown",
   "metadata": {},
   "source": [
    "__Try it yourself__\n",
    "\n",
    "In the cell below:\n",
    "1. Copy and paste your code from the previous excercise.\n",
    "1. Edit your code to overwrite the initnal value of global variable when the function is called by creating a global variabe of the same name within the function. \n",
    "1. Call the function.\n",
    "1. Print the output of the function.\n",
    "1. Print the global variable."
   ]
  },
  {
   "cell_type": "code",
   "execution_count": null,
   "metadata": {
    "collapsed": true
   },
   "outputs": [],
   "source": []
  },
  {
   "cell_type": "markdown",
   "metadata": {},
   "source": [
    "# 1.4 Recursive Functions\n",
    "\n",
    "A recursive function is a function that makes calls to itself.\n",
    "\n",
    "Let's consider a well-known example, the Fibonacci series of numbers."
   ]
  },
  {
   "cell_type": "markdown",
   "metadata": {},
   "source": [
    "## Fibonacci number\n",
    "\n",
    "The $n$th term of the Fibonacci series $f_{n}$ is computed from the preceding terms $f_{n-1}$ and $f_{n-2}$. \n",
    "\n",
    "Due to this dependency on previous terms, we say the series is defined __recursively__.\n",
    "\n",
    "$$\n",
    "f_n = f_{n-1} + f_{n-2}\n",
    "$$\n",
    "\n",
    "for $n > 1$, and with $f_0 = 0$ and $f_1 = 1$. "
   ]
  },
  {
   "cell_type": "markdown",
   "metadata": {},
   "source": [
    "Below is a function that computes the $n$th number in the Fibonacci sequence using a `for` loop inside the function."
   ]
  },
  {
   "cell_type": "code",
   "execution_count": null,
   "metadata": {
    "collapsed": true
   },
   "outputs": [],
   "source": [
    "def fib(n):\n",
    "    \"Compute the nth Fibonacci number\"\n",
    "    # Starting values for f0 and f1\n",
    "    f0, f1 = 0, 1\n",
    "\n",
    "    # Handle cases n==0 and n==1\n",
    "    if n == 0:\n",
    "        return 0\n",
    "    elif n == 1:\n",
    "        return 1\n",
    "    \n",
    "    # Start loop (from n = 2)    \n",
    "    for i in range(2, n + 1):\n",
    "        # Compute next term in sequence\n",
    "        f = f1 + f0\n",
    "\n",
    "        # Update f0 and f1    \n",
    "        f0 = f1\n",
    "        f1 = f\n",
    "\n",
    "    # Return Fibonacci number\n",
    "    return f\n",
    "\n",
    "print(fib(10))"
   ]
  },
  {
   "cell_type": "markdown",
   "metadata": {},
   "source": [
    "The __recursive function__ below return the same result.\n",
    "\n",
    "It is simpler and has a more \"mathematical\" structure."
   ]
  },
  {
   "cell_type": "code",
   "execution_count": null,
   "metadata": {
    "collapsed": true
   },
   "outputs": [],
   "source": [
    "def f(n): \n",
    "    \"Compute the nth Fibonacci number using recursion\"\n",
    "    if n == 0:\n",
    "        return 0  # This doesn't call f, so it breaks out of the recursion loop\n",
    "    elif n == 1:\n",
    "        return 1  # This doesn't call f, so it breaks out of the recursion loop\n",
    "    else:\n",
    "        return f(n - 1) + f(n - 2)  # This calls f for n-1 and n-2 (recursion), and returns the sum \n",
    "\n",
    "print(f(10))"
   ]
  },
  {
   "cell_type": "markdown",
   "metadata": {},
   "source": [
    "Care needs to be taken when using recursion that a program does not enter an infinite recursion loop. There must be a mechanism to 'break out' of the recursion cycle. "
   ]
  },
  {
   "cell_type": "code",
   "execution_count": 24,
   "metadata": {},
   "outputs": [
    {
     "name": "stdout",
     "output_type": "stream",
     "text": [
      ">5*\n"
     ]
    }
   ],
   "source": [
    "def process_value(x):\n",
    "    \"Return a value that depends on the input value x \"\n",
    "    if x > 10:\n",
    "        i = \">10\"\n",
    "    elif x > 5:\n",
    "        #i =  \">5\"\n",
    "        #print(\"breaking\")\n",
    "        #break\n",
    "        return \">5*\"\n",
    "    elif x > 0:\n",
    "        i =  \">0\"\n",
    "    else:\n",
    "        i =  x\n",
    "    \n",
    "    if x == 7: \n",
    "        print(\"7\")\n",
    "        \n",
    "    return i\n",
    "\n",
    "j = process_value(7)\n",
    "print(j)"
   ]
  },
  {
   "cell_type": "code",
   "execution_count": null,
   "metadata": {
    "collapsed": true
   },
   "outputs": [],
   "source": []
  }
 ],
 "metadata": {
  "kernelspec": {
   "display_name": "env",
   "language": "python",
   "name": "env"
  },
  "language_info": {
   "codemirror_mode": {
    "name": "ipython",
    "version": 3
   },
   "file_extension": ".py",
   "mimetype": "text/x-python",
   "name": "python",
   "nbconvert_exporter": "python",
   "pygments_lexer": "ipython3",
   "version": "3.5.3"
  }
 },
 "nbformat": 4,
 "nbformat_minor": 2
}
