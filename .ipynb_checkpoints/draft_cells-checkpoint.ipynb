{
 "cells": [
  {
   "cell_type": "code",
   "execution_count": null,
   "metadata": {
    "collapsed": true
   },
   "outputs": [],
   "source": [
    "__Example:__\n",
    "\n",
    "How much work is done by pushing a lawn-mower for 10m if the force is applied at angle $\\theta$. [For simplicity, we will neglect friction in this example.] \n",
    "\n",
    "ii) How much force is actually helping the object move, when pushing at an angle.\n",
    "\n",
    "<img src=\"../../../ILAS_seminars/intro to python/img/work_equation.jpg\" alt=\"Drawing\" style=\"width: 250px;\"/>"
   ]
  }
 ],
 "metadata": {
  "kernelspec": {
   "display_name": "Python 3",
   "language": "python",
   "name": "python3"
  },
  "language_info": {
   "codemirror_mode": {
    "name": "ipython",
    "version": 3
   },
   "file_extension": ".py",
   "mimetype": "text/x-python",
   "name": "python",
   "nbconvert_exporter": "python",
   "pygments_lexer": "ipython3",
   "version": "3.5.2"
  }
 },
 "nbformat": 4,
 "nbformat_minor": 2
}
