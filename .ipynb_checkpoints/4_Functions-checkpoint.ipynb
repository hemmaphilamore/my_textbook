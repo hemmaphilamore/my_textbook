{
 "cells": [
  {
   "cell_type": "markdown",
   "metadata": {
    "collapsed": true
   },
   "source": [
    "# Functions\n",
    "\n",
    "## Lesson Goal\n",
    "\n",
    "......\n",
    "\n",
    "## Objectives\n",
    "\n",
    "- Introduce construction and use of user functions\n",
    "- Returning from functions\n",
    "- Default arguments\n",
    "- Recursion"
   ]
  },
  {
   "cell_type": "markdown",
   "metadata": {},
   "source": [
    "# 1. What is a function?\n",
    "\n",
    "Functions are one of the most important concepts in computing. \n",
    "\n",
    "In mathematics, a function is a relation between __inputs__ and a set of permissible __outputs__.\n",
    "\n",
    "Example: The functoin relating $x$ to $x^2$ is:\n",
    "$$ \n",
    "f(x) = x \\cdot x\n",
    "$$"
   ]
  },
  {
   "cell_type": "markdown",
   "metadata": {},
   "source": [
    "In programming, a function behaves in a similar way. \n",
    "\n",
    "__Function__: A named section of a code that performs a specific task. \n",
    "\n",
    "Functions can (although do no always) take data as __inputs__ and return __outputs__.\n",
    "\n",
    " \n",
    "A simple function example:\n",
    " - Inputs: the coordinates of the vertices of a triangle.\n",
    " - Output: the area of the triangle. "
   ]
  },
  {
   "cell_type": "markdown",
   "metadata": {},
   "source": [
    "You are already familiar with some Python functions:\n",
    "\n",
    "   - The function `print()` takes the __input__ in the parentheses and __outputs__ a visible representation.\n",
    "   - The function `len()` takes a data structure as __input__ in the parentheses and __outputs__ the number of items in the data structure (in one direction).\n",
    "   - The function `sorted()` takes a data structure as __input__ in the parentheses and __outputs__ the data structure sorted by a rule determined by the data type.\n",
    "   \n",
    "   \n",
    "These are known as *built in* Python functions."
   ]
  },
  {
   "cell_type": "markdown",
   "metadata": {},
   "source": [
    "Most Python programs contain a number of *custom functions*. \n",
    "\n",
    "These are functions, created by the programmer (you!) to perform a specific task."
   ]
  },
  {
   "cell_type": "markdown",
   "metadata": {},
   "source": [
    "## 1.1 The Anatomy of a Function\n",
    "\n",
    "\n",
    "Below is an example of a Python function.\n",
    "The function, `sum_and_increment` takes two arguments (`a` and `b`), and returns `a + b + 1`:"
   ]
  },
  {
   "cell_type": "code",
   "execution_count": null,
   "metadata": {
    "collapsed": true
   },
   "outputs": [],
   "source": [
    "def sum_and_increment(a, b):\n",
    "    \"\"\"\"\n",
    "    Return the sum of a and b, plus 1\n",
    "    \"\"\"\n",
    "    return a + b + 1\n",
    "\n"
   ]
  },
  {
   "cell_type": "markdown",
   "metadata": {},
   "source": [
    "Let's look closely at the structure of the function:\n",
    "\n",
    "- A function is __declared__ using `def` \n",
    "<br>\n",
    "...followed by the function name, `sum_and_increment`, \n",
    "<br> ...followed by the list of inputs (*arguments*) to be passed to the function between brackets, `(a, b)`, \n",
    "<br> ...and ended with a colon:\n",
    "\n",
    "  ```python\n",
    "  def sum_and_increment(a, b):\n",
    "  ```\n",
    "\n",
    "- After the function declaration, the rest of the function code (the *body*) is indented by four spaces (minimum; more spaces are needed for loops). \n",
    " \n",
    "  In Python, the first part of the body is a *documentation string*. <br> The \"doc string\" describes __in words__ what the unction does: \n",
    "  ```python  \n",
    "      \"Return the sum of a and b, plus 1\"\n",
    "  ```\n",
    "\n",
    " The doc-string is __optional__ but it is best practise to include one to make your code understandadble to you and other people. \n",
    "<br>\n",
    "\n",
    "\n",
    "- After the doc-string is the code that is implemented when the function is called. \n",
    "<br>\n",
    "\n",
    "\n",
    "- At the end of a function is usually (not always) a `return` statement. \n",
    "  This defines what result the function should return:\n",
    "  ```python\n",
    "      return a + b + 1\n",
    "  ```"
   ]
  },
  {
   "cell_type": "markdown",
   "metadata": {},
   "source": [
    "Anything indented to the same level (or less) as `def` falls outside of the function body.\n",
    "\n",
    "To execute (*call*) the function we create a variable to store the value it returns (`n` in the example below), followed by the function name, followed by the arguments in brackets:"
   ]
  },
  {
   "cell_type": "code",
   "execution_count": null,
   "metadata": {
    "collapsed": true
   },
   "outputs": [],
   "source": [
    "m = sum_and_increment(3, 4)\n",
    "print(m)  # Expect 8\n",
    "\n",
    "m = 10\n",
    "n = sum_and_increment(m, m)\n",
    "print(n)  # Expect 21\n",
    "\n",
    "#m = sum_and_increment(2, 1)\n",
    "#print(m) \n",
    "\n",
    "#l = 5\n",
    "#m = 6\n",
    "#n = sum_and_increment(m, l)\n",
    "#print(m) \n",
    "\n",
    "#m = 2\n",
    "#m = sum_and_increment(m, m)\n",
    "#print(m) "
   ]
  },
  {
   "cell_type": "markdown",
   "metadata": {},
   "source": [
    "Most functions will take arguments and return something, but this is not strictly required.\n",
    "\n",
    "Below is an example of a function that does not take any arguments or return any variables."
   ]
  },
  {
   "cell_type": "code",
   "execution_count": null,
   "metadata": {
    "collapsed": true
   },
   "outputs": [],
   "source": [
    "def print_message():\n",
    "    print(\"The function 'print_message' has been called.\")\n",
    "\n",
    "print_message()"
   ]
  },
  {
   "cell_type": "markdown",
   "metadata": {},
   "source": [
    "Functions are ideal for repetitive tasks. \n",
    "\n",
    "Functions allow computer code to be re-used multiple times with different input data. \n",
    "\n",
    "The more code that is written, the less frequently sections of code are re-used.\n",
    "\n",
    "A consequence if this is the greater the likelihood of errors.\n",
    "\n",
    "Functions can also enhance the readability of a program, and make it easier to collaborate with others. Functions allow us to focus on *what* a program does at a high level rather than the details of *how* it does it. \n",
    "\n",
    "For example, we might need to know that a function computes and returns $\\sin(x)$; we don't usually need to know *how* it computes sine.\n",
    "\n",
    "Below is a simple example of a function being 'called' numerous times from inside a `for` loop."
   ]
  },
  {
   "cell_type": "code",
   "execution_count": null,
   "metadata": {
    "collapsed": true
   },
   "outputs": [],
   "source": [
    "def process_value(x):\n",
    "    \"Return a value that depends on the input value x \"\n",
    "    if x > 10:\n",
    "        return 0\n",
    "    elif x > 5:\n",
    "        return x*x\n",
    "    elif x > 0:\n",
    "        return x**3\n",
    "    else:\n",
    "        return x\n",
    "\n",
    "    \n",
    "print(\"Case A: 3 values\")    \n",
    "for y in range(3):\n",
    "    print(process_value(y))\n",
    "\n",
    "print(\"Case B: 12 values\")    \n",
    "for y in range(12):\n",
    "    print(process_value(y))"
   ]
  },
  {
   "cell_type": "markdown",
   "metadata": {},
   "source": [
    "Using a function, we did not have to duplicate the `if-elif-else` statement inside each loop\n",
    "we re-used it.\n",
    "With a function we only have to change the way in which we process the number `x` in one place."
   ]
  },
  {
   "cell_type": "markdown",
   "metadata": {},
   "source": [
    "## 1.2 Function Arguments\n",
    "\n",
    "Usually, arguments are listed in the function declaration in the order in which they are used within the function. \n",
    "\n",
    "It is important to input the arguments in the correct order when calling the function. \n",
    "\n",
    "e.g. For the function `sum_and_increment` we could switch the order of the arguments and the result would not change.\n",
    "<br> However, if we subtract one argument from the other, the result would depend on the input order:"
   ]
  },
  {
   "cell_type": "code",
   "execution_count": null,
   "metadata": {
    "collapsed": true
   },
   "outputs": [],
   "source": [
    "def subtract_and_increment(a, b):\n",
    "    \"Return a minus b, plus 1\"\n",
    "    return a - b + 1\n",
    "\n",
    "alpha, beta = 3, 5  # This is short hand notation for alpha = 3\n",
    "                    #                                 beta = 5\n",
    "\n",
    "# Call the function and print the return value\n",
    "print(subtract_and_increment(alpha, beta))  # Expect -1\n",
    "print(subtract_and_increment(beta, alpha))  # Expect 3"
   ]
  },
  {
   "cell_type": "markdown",
   "metadata": {},
   "source": [
    "More complicated functions can have numerous arguments. \n",
    "\n",
    "Consequently, it becomes easier to accidentally input arguments in the wrong order when calling the function leading to incorrect use of the code (termed *a bug*).  \n",
    "\n",
    "In Python, we can reduce the likelihood of erroneously using the wrong order an error by using *named* arguments. \n",
    "\n",
    "Using named arguments can often enhance program readability and reduce errors.\n",
    "\n",
    "When we use named arguments, the order of input does not matter e.g."
   ]
  },
  {
   "cell_type": "code",
   "execution_count": null,
   "metadata": {
    "collapsed": true
   },
   "outputs": [],
   "source": [
    "print(subtract_and_increment(a=alpha, b=beta))  # Expect -1\n",
    "print(subtract_and_increment(b=beta, a=alpha))  # Expect -1"
   ]
  },
  {
   "cell_type": "markdown",
   "metadata": {},
   "source": [
    "### 1.2.1 What can be passed as a function argument?\n",
    "\n",
    "Many *object* types can be passed as arguments to functions.\n",
    "\n",
    "This includes single variables (`int`, `float`...), data structures (`list`, `tuple`, `dict`...).\n",
    "\n",
    "Arguments passed as arguments to functions can also be toher functions. \n",
    "\n",
    "In the example below, the function `is_positive`, checks if the value of a function $f$, evaluated at $x$, is positive:"
   ]
  },
  {
   "cell_type": "code",
   "execution_count": null,
   "metadata": {
    "collapsed": true
   },
   "outputs": [],
   "source": [
    "def f0(x):\n",
    "    \"Compute x^2 - 1\"\n",
    "    return x*x - 1\n",
    "\n",
    "\n",
    "def f1(x):\n",
    "    \"Compute -x^2 + 2x + 1\"\n",
    "    return -x*x + 2*x + 1\n",
    "\n",
    "\n",
    "def is_positive(f, x):\n",
    "    \"Check if the function value f(x) is positive\"\n",
    "\n",
    "    # Evaluate the function passed into the function for the value of x \n",
    "    # passed into the function\n",
    "    if f(x) > 0:\n",
    "        return True\n",
    "    else:\n",
    "        return False\n",
    "\n",
    "    \n",
    "# Value of x for which we want to test a function sign\n",
    "x = 4.5\n",
    "\n",
    "# Test function f0\n",
    "print(is_positive(f0, x))\n",
    "\n",
    "# Test function f1\n",
    "print(is_positive(f1, x))"
   ]
  },
  {
   "cell_type": "markdown",
   "metadata": {},
   "source": [
    "### 1.2.2 Default arguments\n",
    "\n",
    "'Default' argument values have a default initial value which can be overridden. \n",
    "\n",
    "In some cases it just saves the programmer effort - they can write less code. \n",
    "\n",
    "In other cases it can allow us to use a function for a wider range of problems. \n",
    "\n",
    "For example, we could use the same function for vectors of length 2 and 3 if the default value for the third component is zero.\n",
    "\n",
    "As an example we consider the position $r$ of a particle with initial position $r_{0}$ and initial velocity $v_{0}$, and subject to an acceleration $a$. \n",
    "\n",
    "The position $r$ is given by:  \n",
    "\n",
    "$$\n",
    "r = r_0 + v_0 t + \\frac{1}{2} a t^{2}\n",
    "$$\n",
    "\n",
    "Say for a particular application:\n",
    "\n",
    " - the acceleration is almost always due to gravity ($g$), and $g = 9.81$ m s$^{-1}$ is sufficiently accurate in most cases. \n",
    " - the initial velocity is usually zero. \n",
    " \n",
    "We might therefore implement a function as:"
   ]
  },
  {
   "cell_type": "code",
   "execution_count": null,
   "metadata": {
    "collapsed": true
   },
   "outputs": [],
   "source": [
    "def position(t, r0, v0=0.0, a=-9.81):\n",
    "    \"Compute position of an accelerating particle.\"\n",
    "    return r0 + v0*t + 0.5*a*t*t\n",
    "\n",
    "# Position after 0.2 s (t) when dropped from a height of 1 m (r0) \n",
    "# with v0=0.0 and a=-9.81\n",
    "p = position(0.2, 1.0)\n",
    "print(p)"
   ]
  },
  {
   "cell_type": "markdown",
   "metadata": {},
   "source": [
    "__Note__ that we __do not__ need to include the default variables in the brackets when calling the function. \n",
    "\n",
    "At the equator, the acceleration due to gravity is slightly less.\n",
    "\n",
    "For a case where this difference is important we can override the default value of a to call the function with the acceleration due to gravity at the equator.\n",
    "<br> We simply override the default values by using the values we require for this specific case:"
   ]
  },
  {
   "cell_type": "code",
   "execution_count": null,
   "metadata": {
    "collapsed": true
   },
   "outputs": [],
   "source": [
    "# Position after 0.2 s (t) when dropped from a height of  1 m (r0)\n",
    "\n",
    "p = position(0.2, 1, 0.0, -9.78)\n",
    "\n",
    "print(p)"
   ]
  },
  {
   "cell_type": "markdown",
   "metadata": {},
   "source": [
    "Note that we have also passed the initial velocity, `v`.\n",
    "<br> \n",
    "If only a single value is passed in, the program will use this value to override the dfault value for velocity, `v` (as this argument appears before acceleration, `a`).\n",
    "<br>\n",
    "Therefore, we must specify the default version for velocity followed by the overriding value for acceleration.\n",
    "<br> This is risky; we may accidentally input the default value of `v` incoreectly\n",
    "\n",
    "A more robust solution is to specify the acceleration by using a named argument. "
   ]
  },
  {
   "cell_type": "code",
   "execution_count": null,
   "metadata": {
    "collapsed": true
   },
   "outputs": [],
   "source": [
    "# Position after 0.2 s (t) when dropped from a height of  1 m (r0)\n",
    "p = position(0.2, 1, a=-9.78)\n",
    "print(p)"
   ]
  },
  {
   "cell_type": "code",
   "execution_count": null,
   "metadata": {
    "collapsed": true
   },
   "outputs": [],
   "source": [
    "The program overwrites the correct default value.\n",
    "\n",
    "We do not have to specify `v`. "
   ]
  },
  {
   "cell_type": "markdown",
   "metadata": {},
   "source": [
    "### 1.2.3 Return arguments\n",
    "\n",
    "Most functions (though not all) return data. \n",
    "\n",
    "A single Python function can have no return values, single return value or multiple return values. \n",
    "\n",
    "For example, we could have a function that:\n",
    " - takes three values \n",
    " - returns the maximum, the minimum and the mean\n",
    " "
   ]
  },
  {
   "cell_type": "code",
   "execution_count": null,
   "metadata": {
    "collapsed": true
   },
   "outputs": [],
   "source": [
    "def compute_max_min_mean(x0, x1, x2):\n",
    "    \"Return maximum, minimum and mean values\"\n",
    "    \n",
    "    x_min = x0\n",
    "    if x1 < x_min:\n",
    "        x_min = x1\n",
    "    if x2 < x_min:\n",
    "        x_min = x2\n",
    "\n",
    "    x_max = x0\n",
    "    if x1 > x_max:\n",
    "        x_max = x1\n",
    "    if x2 > x_max:\n",
    "        x_max = x2\n",
    "\n",
    "    x_mean = (x0 + x1 + x2)/3    \n",
    "        \n",
    "    return x_min, x_max, x_mean\n",
    "\n",
    "\n",
    "xmin, xmax, xmean = compute_max_min_mean(0.5, 0.1, -20)\n",
    "print(xmin, xmax, xmean)"
   ]
  },
  {
   "cell_type": "markdown",
   "metadata": {},
   "source": [
    "__Note__ This function could be implemented more efficiently using lists  lists or tuples. We will look at how to optimise functions later in the course."
   ]
  },
  {
   "cell_type": "markdown",
   "metadata": {},
   "source": [
    "## 1.3  Introduction to Scope\n",
    "\n",
    "Variables that are *declared* __inside__ of a function are not visible (cannot be used) __outside__ of the function. \n",
    "\n",
    "This is called *local scope*. \n",
    "\n",
    "This prevents variables declared inside a function unexpectedly affecting other parts of a program. \n",
    "\n",
    "Here is a simple example:"
   ]
  },
  {
   "cell_type": "code",
   "execution_count": null,
   "metadata": {
    "collapsed": true
   },
   "outputs": [],
   "source": [
    "# Assign 10.0 to the variable a\n",
    "a = 10.0\n",
    "\n",
    "# A simple function that creates a variable 'a' and returns the value\n",
    "def dummy():\n",
    "    c = 5\n",
    "    a = \"A simple function\"\n",
    "    return a\n",
    "\n",
    "# Call the function\n",
    "b = dummy()\n",
    "\n",
    "print(b)\n",
    "\n",
    "# Check that the function declaration of 'a' has not affected \n",
    "# the variable 'a' outside of the function\n",
    "print(a)\n",
    "\n",
    "# This would throw an error - the variable c is not visible outside of the function\n",
    "# print(c)"
   ]
  },
  {
   "cell_type": "markdown",
   "metadata": {},
   "source": [
    "The variable `a` that is declared outside of the function is unaffected by what is done inside the function.\n",
    "\n",
    "The variable `c` in the function is not 'visible' outside of the function. \n"
   ]
  },
  {
   "cell_type": "markdown",
   "metadata": {},
   "source": [
    "# 1.4 Recursive Functions\n",
    "\n",
    "A recursive function is a function that makes calls to itself.\n",
    "\n",
    "Let's consider a well-known example, the Fibonacci series of numbers."
   ]
  },
  {
   "cell_type": "markdown",
   "metadata": {},
   "source": [
    "## Fibonacci number\n",
    "\n",
    "The $n$th term of the Fibonacci series $f_{n}$ is computed from the preceding terms $f_{n-1}$ and $f_{n-2}$. \n",
    "\n",
    "Due to this dependency on previous terms, we say the series is defined __recursively__.\n",
    "\n",
    "$$\n",
    "f_n = f_{n-1} + f_{n-2}\n",
    "$$\n",
    "\n",
    "for $n > 1$, and with $f_0 = 0$ and $f_1 = 1$. "
   ]
  },
  {
   "cell_type": "markdown",
   "metadata": {},
   "source": [
    "Below is a function that computes the $n$th number in the Fibonacci sequence using a `for` loop inside the function."
   ]
  },
  {
   "cell_type": "code",
   "execution_count": null,
   "metadata": {
    "collapsed": true
   },
   "outputs": [],
   "source": [
    "def fib(n):\n",
    "    \"Compute the nth Fibonacci number\"\n",
    "    # Starting values for f0 and f1\n",
    "    f0, f1 = 0, 1\n",
    "\n",
    "    # Handle cases n==0 and n==1\n",
    "    if n == 0:\n",
    "        return 0\n",
    "    elif n == 1:\n",
    "        return 1\n",
    "    \n",
    "    # Start loop (from n = 2)    \n",
    "    for i in range(2, n + 1):\n",
    "        # Compute next term in sequence\n",
    "        f = f1 + f0\n",
    "\n",
    "        # Update f0 and f1    \n",
    "        f0 = f1\n",
    "        f1 = f\n",
    "\n",
    "    # Return Fibonacci number\n",
    "    return f\n",
    "\n",
    "print(fib(10))"
   ]
  },
  {
   "cell_type": "markdown",
   "metadata": {},
   "source": [
    "The __recursive function__ below return the same result.\n",
    "\n",
    "It is simpler and has a more \"mathematical\" structure."
   ]
  },
  {
   "cell_type": "code",
   "execution_count": null,
   "metadata": {
    "collapsed": true
   },
   "outputs": [],
   "source": [
    "def f(n): \n",
    "    \"Compute the nth Fibonacci number using recursion\"\n",
    "    if n == 0:\n",
    "        return 0  # This doesn't call f, so it breaks out of the recursion loop\n",
    "    elif n == 1:\n",
    "        return 1  # This doesn't call f, so it breaks out of the recursion loop\n",
    "    else:\n",
    "        return f(n - 1) + f(n - 2)  # This calls f for n-1 and n-2 (recursion), and returns the sum \n",
    "\n",
    "print(f(10))"
   ]
  },
  {
   "cell_type": "markdown",
   "metadata": {},
   "source": [
    "Care needs to be taken when using recursion that a program does not enter an infinite recursion loop. There must be a mechanism to 'break out' of the recursion cycle. "
   ]
  },
  {
   "cell_type": "code",
   "execution_count": null,
   "metadata": {
    "collapsed": true
   },
   "outputs": [],
   "source": []
  }
 ],
 "metadata": {
  "kernelspec": {
   "display_name": "env",
   "language": "python",
   "name": "env"
  },
  "language_info": {
   "codemirror_mode": {
    "name": "ipython",
    "version": 3
   },
   "file_extension": ".py",
   "mimetype": "text/x-python",
   "name": "python",
   "nbconvert_exporter": "python",
   "pygments_lexer": "ipython3",
   "version": "3.5.3"
  }
 },
 "nbformat": 4,
 "nbformat_minor": 2
}
